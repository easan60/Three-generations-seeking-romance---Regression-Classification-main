{
 "cells": [
  {
   "cell_type": "code",
   "execution_count": 1,
   "metadata": {},
   "outputs": [],
   "source": [
    "import pandas as pd\n",
    "import numpy as np\n",
    "import matplotlib.pyplot as plt\n",
    "import seaborn as sns\n",
    "import warnings\n",
    "from datetime import datetime\n",
    "warnings.filterwarnings(\"ignore\")\n",
    "pd.set_option(\"display.max_columns\",100)\n",
    "from sklearn.model_selection import train_test_split"
   ]
  },
  {
   "cell_type": "code",
   "execution_count": 2,
   "metadata": {},
   "outputs": [],
   "source": [
    "df=pd.read_csv(\"profiles.csv\")"
   ]
  },
  {
   "cell_type": "code",
   "execution_count": 3,
   "metadata": {},
   "outputs": [
    {
     "data": {
      "text/html": [
       "<div>\n",
       "<style scoped>\n",
       "    .dataframe tbody tr th:only-of-type {\n",
       "        vertical-align: middle;\n",
       "    }\n",
       "\n",
       "    .dataframe tbody tr th {\n",
       "        vertical-align: top;\n",
       "    }\n",
       "\n",
       "    .dataframe thead th {\n",
       "        text-align: right;\n",
       "    }\n",
       "</style>\n",
       "<table border=\"1\" class=\"dataframe\">\n",
       "  <thead>\n",
       "    <tr style=\"text-align: right;\">\n",
       "      <th></th>\n",
       "      <th>age</th>\n",
       "      <th>body_type</th>\n",
       "      <th>diet</th>\n",
       "      <th>drinks</th>\n",
       "      <th>drugs</th>\n",
       "      <th>education</th>\n",
       "      <th>essay0</th>\n",
       "      <th>essay1</th>\n",
       "      <th>essay2</th>\n",
       "      <th>essay3</th>\n",
       "      <th>essay4</th>\n",
       "      <th>essay5</th>\n",
       "      <th>essay6</th>\n",
       "      <th>essay7</th>\n",
       "      <th>essay8</th>\n",
       "      <th>essay9</th>\n",
       "      <th>ethnicity</th>\n",
       "      <th>height</th>\n",
       "      <th>income</th>\n",
       "      <th>job</th>\n",
       "      <th>last_online</th>\n",
       "      <th>location</th>\n",
       "      <th>offspring</th>\n",
       "      <th>orientation</th>\n",
       "      <th>pets</th>\n",
       "      <th>religion</th>\n",
       "      <th>sex</th>\n",
       "      <th>sign</th>\n",
       "      <th>smokes</th>\n",
       "      <th>speaks</th>\n",
       "      <th>status</th>\n",
       "    </tr>\n",
       "  </thead>\n",
       "  <tbody>\n",
       "    <tr>\n",
       "      <th>0</th>\n",
       "      <td>22.0</td>\n",
       "      <td>a little extra</td>\n",
       "      <td>strictly anything</td>\n",
       "      <td>socially</td>\n",
       "      <td>never</td>\n",
       "      <td>working on college/university</td>\n",
       "      <td>about me:&lt;br /&gt;\\n&lt;br /&gt;\\ni would love to think...</td>\n",
       "      <td>currently working as an international agent fo...</td>\n",
       "      <td>making people laugh.&lt;br /&gt;\\nranting about a go...</td>\n",
       "      <td>the way i look. i am a six foot half asian, ha...</td>\n",
       "      <td>books:&lt;br /&gt;\\nabsurdistan, the republic, of mi...</td>\n",
       "      <td>food.&lt;br /&gt;\\nwater.&lt;br /&gt;\\ncell phone.&lt;br /&gt;\\n...</td>\n",
       "      <td>duality and humorous things</td>\n",
       "      <td>trying to find someone to hang out with. i am ...</td>\n",
       "      <td>i am new to california and looking for someone...</td>\n",
       "      <td>you want to be swept off your feet!&lt;br /&gt;\\nyou...</td>\n",
       "      <td>asian, white</td>\n",
       "      <td>75.0</td>\n",
       "      <td>-1.0</td>\n",
       "      <td>transportation</td>\n",
       "      <td>2012-06-28-20-30</td>\n",
       "      <td>south san francisco, california</td>\n",
       "      <td>doesn&amp;rsquo;t have kids, but might want them</td>\n",
       "      <td>straight</td>\n",
       "      <td>likes dogs and likes cats</td>\n",
       "      <td>agnosticism and very serious about it</td>\n",
       "      <td>m</td>\n",
       "      <td>gemini</td>\n",
       "      <td>sometimes</td>\n",
       "      <td>english</td>\n",
       "      <td>single</td>\n",
       "    </tr>\n",
       "    <tr>\n",
       "      <th>1</th>\n",
       "      <td>35.0</td>\n",
       "      <td>average</td>\n",
       "      <td>mostly other</td>\n",
       "      <td>often</td>\n",
       "      <td>sometimes</td>\n",
       "      <td>working on space camp</td>\n",
       "      <td>i am a chef: this is what that means.&lt;br /&gt;\\n1...</td>\n",
       "      <td>dedicating everyday to being an unbelievable b...</td>\n",
       "      <td>being silly. having ridiculous amonts of fun w...</td>\n",
       "      <td>NaN</td>\n",
       "      <td>i am die hard christopher moore fan. i don't r...</td>\n",
       "      <td>delicious porkness in all of its glories.&lt;br /...</td>\n",
       "      <td>NaN</td>\n",
       "      <td>NaN</td>\n",
       "      <td>i am very open and will share just about anyth...</td>\n",
       "      <td>NaN</td>\n",
       "      <td>white</td>\n",
       "      <td>70.0</td>\n",
       "      <td>80000.0</td>\n",
       "      <td>hospitality / travel</td>\n",
       "      <td>2012-06-29-21-41</td>\n",
       "      <td>oakland, california</td>\n",
       "      <td>doesn&amp;rsquo;t have kids, but might want them</td>\n",
       "      <td>straight</td>\n",
       "      <td>likes dogs and likes cats</td>\n",
       "      <td>agnosticism but not too serious about it</td>\n",
       "      <td>m</td>\n",
       "      <td>cancer</td>\n",
       "      <td>no</td>\n",
       "      <td>english (fluently), spanish (poorly), french (...</td>\n",
       "      <td>single</td>\n",
       "    </tr>\n",
       "    <tr>\n",
       "      <th>2</th>\n",
       "      <td>38.0</td>\n",
       "      <td>thin</td>\n",
       "      <td>anything</td>\n",
       "      <td>socially</td>\n",
       "      <td>NaN</td>\n",
       "      <td>graduated from masters program</td>\n",
       "      <td>i'm not ashamed of much, but writing public te...</td>\n",
       "      <td>i make nerdy software for musicians, artists, ...</td>\n",
       "      <td>improvising in different contexts. alternating...</td>\n",
       "      <td>my large jaw and large glasses are the physica...</td>\n",
       "      <td>okay this is where the cultural matrix gets so...</td>\n",
       "      <td>movement&lt;br /&gt;\\nconversation&lt;br /&gt;\\ncreation&lt;b...</td>\n",
       "      <td>NaN</td>\n",
       "      <td>viewing. listening. dancing. talking. drinking...</td>\n",
       "      <td>when i was five years old, i was known as \"the...</td>\n",
       "      <td>you are bright, open, intense, silly, ironic, ...</td>\n",
       "      <td>NaN</td>\n",
       "      <td>68.0</td>\n",
       "      <td>-1.0</td>\n",
       "      <td>NaN</td>\n",
       "      <td>2012-06-27-09-10</td>\n",
       "      <td>san francisco, california</td>\n",
       "      <td>NaN</td>\n",
       "      <td>straight</td>\n",
       "      <td>has cats</td>\n",
       "      <td>NaN</td>\n",
       "      <td>m</td>\n",
       "      <td>pisces but it doesn&amp;rsquo;t matter</td>\n",
       "      <td>no</td>\n",
       "      <td>english, french, c++</td>\n",
       "      <td>available</td>\n",
       "    </tr>\n",
       "  </tbody>\n",
       "</table>\n",
       "</div>"
      ],
      "text/plain": [
       "    age       body_type               diet    drinks      drugs  \\\n",
       "0  22.0  a little extra  strictly anything  socially      never   \n",
       "1  35.0         average       mostly other     often  sometimes   \n",
       "2  38.0            thin           anything  socially        NaN   \n",
       "\n",
       "                        education  \\\n",
       "0   working on college/university   \n",
       "1           working on space camp   \n",
       "2  graduated from masters program   \n",
       "\n",
       "                                              essay0  \\\n",
       "0  about me:<br />\\n<br />\\ni would love to think...   \n",
       "1  i am a chef: this is what that means.<br />\\n1...   \n",
       "2  i'm not ashamed of much, but writing public te...   \n",
       "\n",
       "                                              essay1  \\\n",
       "0  currently working as an international agent fo...   \n",
       "1  dedicating everyday to being an unbelievable b...   \n",
       "2  i make nerdy software for musicians, artists, ...   \n",
       "\n",
       "                                              essay2  \\\n",
       "0  making people laugh.<br />\\nranting about a go...   \n",
       "1  being silly. having ridiculous amonts of fun w...   \n",
       "2  improvising in different contexts. alternating...   \n",
       "\n",
       "                                              essay3  \\\n",
       "0  the way i look. i am a six foot half asian, ha...   \n",
       "1                                                NaN   \n",
       "2  my large jaw and large glasses are the physica...   \n",
       "\n",
       "                                              essay4  \\\n",
       "0  books:<br />\\nabsurdistan, the republic, of mi...   \n",
       "1  i am die hard christopher moore fan. i don't r...   \n",
       "2  okay this is where the cultural matrix gets so...   \n",
       "\n",
       "                                              essay5  \\\n",
       "0  food.<br />\\nwater.<br />\\ncell phone.<br />\\n...   \n",
       "1  delicious porkness in all of its glories.<br /...   \n",
       "2  movement<br />\\nconversation<br />\\ncreation<b...   \n",
       "\n",
       "                        essay6  \\\n",
       "0  duality and humorous things   \n",
       "1                          NaN   \n",
       "2                          NaN   \n",
       "\n",
       "                                              essay7  \\\n",
       "0  trying to find someone to hang out with. i am ...   \n",
       "1                                                NaN   \n",
       "2  viewing. listening. dancing. talking. drinking...   \n",
       "\n",
       "                                              essay8  \\\n",
       "0  i am new to california and looking for someone...   \n",
       "1  i am very open and will share just about anyth...   \n",
       "2  when i was five years old, i was known as \"the...   \n",
       "\n",
       "                                              essay9     ethnicity  height  \\\n",
       "0  you want to be swept off your feet!<br />\\nyou...  asian, white    75.0   \n",
       "1                                                NaN         white    70.0   \n",
       "2  you are bright, open, intense, silly, ironic, ...           NaN    68.0   \n",
       "\n",
       "    income                   job       last_online  \\\n",
       "0     -1.0        transportation  2012-06-28-20-30   \n",
       "1  80000.0  hospitality / travel  2012-06-29-21-41   \n",
       "2     -1.0                   NaN  2012-06-27-09-10   \n",
       "\n",
       "                          location  \\\n",
       "0  south san francisco, california   \n",
       "1              oakland, california   \n",
       "2        san francisco, california   \n",
       "\n",
       "                                      offspring orientation  \\\n",
       "0  doesn&rsquo;t have kids, but might want them    straight   \n",
       "1  doesn&rsquo;t have kids, but might want them    straight   \n",
       "2                                           NaN    straight   \n",
       "\n",
       "                        pets                                  religion sex  \\\n",
       "0  likes dogs and likes cats     agnosticism and very serious about it   m   \n",
       "1  likes dogs and likes cats  agnosticism but not too serious about it   m   \n",
       "2                   has cats                                       NaN   m   \n",
       "\n",
       "                                 sign     smokes  \\\n",
       "0                              gemini  sometimes   \n",
       "1                              cancer         no   \n",
       "2  pisces but it doesn&rsquo;t matter         no   \n",
       "\n",
       "                                              speaks     status  \n",
       "0                                            english     single  \n",
       "1  english (fluently), spanish (poorly), french (...     single  \n",
       "2                               english, french, c++  available  "
      ]
     },
     "execution_count": 3,
     "metadata": {},
     "output_type": "execute_result"
    }
   ],
   "source": [
    "df.head(3)"
   ]
  },
  {
   "cell_type": "code",
   "execution_count": 4,
   "metadata": {},
   "outputs": [
    {
     "data": {
      "text/html": [
       "<div>\n",
       "<style scoped>\n",
       "    .dataframe tbody tr th:only-of-type {\n",
       "        vertical-align: middle;\n",
       "    }\n",
       "\n",
       "    .dataframe tbody tr th {\n",
       "        vertical-align: top;\n",
       "    }\n",
       "\n",
       "    .dataframe thead th {\n",
       "        text-align: right;\n",
       "    }\n",
       "</style>\n",
       "<table border=\"1\" class=\"dataframe\">\n",
       "  <thead>\n",
       "    <tr style=\"text-align: right;\">\n",
       "      <th></th>\n",
       "      <th>age</th>\n",
       "      <th>body_type</th>\n",
       "      <th>diet</th>\n",
       "      <th>drinks</th>\n",
       "      <th>drugs</th>\n",
       "      <th>education</th>\n",
       "      <th>essay0</th>\n",
       "      <th>essay1</th>\n",
       "      <th>essay2</th>\n",
       "      <th>essay3</th>\n",
       "      <th>essay4</th>\n",
       "      <th>essay5</th>\n",
       "      <th>essay6</th>\n",
       "      <th>essay7</th>\n",
       "      <th>essay8</th>\n",
       "      <th>essay9</th>\n",
       "      <th>ethnicity</th>\n",
       "      <th>height</th>\n",
       "      <th>income</th>\n",
       "      <th>job</th>\n",
       "      <th>last_online</th>\n",
       "      <th>location</th>\n",
       "      <th>offspring</th>\n",
       "      <th>orientation</th>\n",
       "      <th>pets</th>\n",
       "      <th>religion</th>\n",
       "      <th>sex</th>\n",
       "      <th>sign</th>\n",
       "      <th>smokes</th>\n",
       "      <th>speaks</th>\n",
       "      <th>status</th>\n",
       "    </tr>\n",
       "  </thead>\n",
       "  <tbody>\n",
       "    <tr>\n",
       "      <th>60547</th>\n",
       "      <td>NaN</td>\n",
       "      <td>NaN</td>\n",
       "      <td>NaN</td>\n",
       "      <td>NaN</td>\n",
       "      <td>NaN</td>\n",
       "      <td>NaN</td>\n",
       "      <td>NaN</td>\n",
       "      <td>NaN</td>\n",
       "      <td>NaN</td>\n",
       "      <td>NaN</td>\n",
       "      <td>NaN</td>\n",
       "      <td>NaN</td>\n",
       "      <td>NaN</td>\n",
       "      <td>NaN</td>\n",
       "      <td>NaN</td>\n",
       "      <td>NaN</td>\n",
       "      <td>NaN</td>\n",
       "      <td>NaN</td>\n",
       "      <td>NaN</td>\n",
       "      <td>NaN</td>\n",
       "      <td>NaN</td>\n",
       "      <td>NaN</td>\n",
       "      <td>NaN</td>\n",
       "      <td>NaN</td>\n",
       "      <td>NaN</td>\n",
       "      <td>NaN</td>\n",
       "      <td>NaN</td>\n",
       "      <td>NaN</td>\n",
       "      <td>NaN</td>\n",
       "      <td>NaN</td>\n",
       "      <td>NaN</td>\n",
       "    </tr>\n",
       "    <tr>\n",
       "      <th>60548</th>\n",
       "      <td>NaN</td>\n",
       "      <td>NaN</td>\n",
       "      <td>NaN</td>\n",
       "      <td>NaN</td>\n",
       "      <td>NaN</td>\n",
       "      <td>NaN</td>\n",
       "      <td>NaN</td>\n",
       "      <td>NaN</td>\n",
       "      <td>NaN</td>\n",
       "      <td>NaN</td>\n",
       "      <td>NaN</td>\n",
       "      <td>NaN</td>\n",
       "      <td>NaN</td>\n",
       "      <td>NaN</td>\n",
       "      <td>NaN</td>\n",
       "      <td>NaN</td>\n",
       "      <td>NaN</td>\n",
       "      <td>NaN</td>\n",
       "      <td>NaN</td>\n",
       "      <td>NaN</td>\n",
       "      <td>NaN</td>\n",
       "      <td>NaN</td>\n",
       "      <td>NaN</td>\n",
       "      <td>NaN</td>\n",
       "      <td>NaN</td>\n",
       "      <td>NaN</td>\n",
       "      <td>NaN</td>\n",
       "      <td>NaN</td>\n",
       "      <td>NaN</td>\n",
       "      <td>NaN</td>\n",
       "      <td>NaN</td>\n",
       "    </tr>\n",
       "    <tr>\n",
       "      <th>60549</th>\n",
       "      <td>NaN</td>\n",
       "      <td>NaN</td>\n",
       "      <td>NaN</td>\n",
       "      <td>NaN</td>\n",
       "      <td>NaN</td>\n",
       "      <td>NaN</td>\n",
       "      <td>NaN</td>\n",
       "      <td>NaN</td>\n",
       "      <td>NaN</td>\n",
       "      <td>NaN</td>\n",
       "      <td>NaN</td>\n",
       "      <td>NaN</td>\n",
       "      <td>NaN</td>\n",
       "      <td>NaN</td>\n",
       "      <td>NaN</td>\n",
       "      <td>NaN</td>\n",
       "      <td>NaN</td>\n",
       "      <td>NaN</td>\n",
       "      <td>NaN</td>\n",
       "      <td>NaN</td>\n",
       "      <td>NaN</td>\n",
       "      <td>NaN</td>\n",
       "      <td>NaN</td>\n",
       "      <td>NaN</td>\n",
       "      <td>NaN</td>\n",
       "      <td>NaN</td>\n",
       "      <td>NaN</td>\n",
       "      <td>NaN</td>\n",
       "      <td>NaN</td>\n",
       "      <td>NaN</td>\n",
       "      <td>NaN</td>\n",
       "    </tr>\n",
       "    <tr>\n",
       "      <th>60550</th>\n",
       "      <td>NaN</td>\n",
       "      <td>NaN</td>\n",
       "      <td>NaN</td>\n",
       "      <td>NaN</td>\n",
       "      <td>NaN</td>\n",
       "      <td>NaN</td>\n",
       "      <td>NaN</td>\n",
       "      <td>NaN</td>\n",
       "      <td>NaN</td>\n",
       "      <td>NaN</td>\n",
       "      <td>NaN</td>\n",
       "      <td>NaN</td>\n",
       "      <td>NaN</td>\n",
       "      <td>NaN</td>\n",
       "      <td>NaN</td>\n",
       "      <td>NaN</td>\n",
       "      <td>NaN</td>\n",
       "      <td>NaN</td>\n",
       "      <td>NaN</td>\n",
       "      <td>NaN</td>\n",
       "      <td>NaN</td>\n",
       "      <td>NaN</td>\n",
       "      <td>NaN</td>\n",
       "      <td>NaN</td>\n",
       "      <td>NaN</td>\n",
       "      <td>NaN</td>\n",
       "      <td>NaN</td>\n",
       "      <td>NaN</td>\n",
       "      <td>NaN</td>\n",
       "      <td>NaN</td>\n",
       "      <td>NaN</td>\n",
       "    </tr>\n",
       "    <tr>\n",
       "      <th>60551</th>\n",
       "      <td>NaN</td>\n",
       "      <td>NaN</td>\n",
       "      <td>NaN</td>\n",
       "      <td>NaN</td>\n",
       "      <td>NaN</td>\n",
       "      <td>NaN</td>\n",
       "      <td>NaN</td>\n",
       "      <td>NaN</td>\n",
       "      <td>NaN</td>\n",
       "      <td>NaN</td>\n",
       "      <td>NaN</td>\n",
       "      <td>NaN</td>\n",
       "      <td>NaN</td>\n",
       "      <td>NaN</td>\n",
       "      <td>NaN</td>\n",
       "      <td>NaN</td>\n",
       "      <td>NaN</td>\n",
       "      <td>NaN</td>\n",
       "      <td>NaN</td>\n",
       "      <td>NaN</td>\n",
       "      <td>NaN</td>\n",
       "      <td>NaN</td>\n",
       "      <td>NaN</td>\n",
       "      <td>NaN</td>\n",
       "      <td>NaN</td>\n",
       "      <td>NaN</td>\n",
       "      <td>NaN</td>\n",
       "      <td>NaN</td>\n",
       "      <td>NaN</td>\n",
       "      <td>NaN</td>\n",
       "      <td>NaN</td>\n",
       "    </tr>\n",
       "  </tbody>\n",
       "</table>\n",
       "</div>"
      ],
      "text/plain": [
       "       age body_type diet drinks drugs education essay0 essay1 essay2 essay3  \\\n",
       "60547  NaN       NaN  NaN    NaN   NaN       NaN    NaN    NaN    NaN    NaN   \n",
       "60548  NaN       NaN  NaN    NaN   NaN       NaN    NaN    NaN    NaN    NaN   \n",
       "60549  NaN       NaN  NaN    NaN   NaN       NaN    NaN    NaN    NaN    NaN   \n",
       "60550  NaN       NaN  NaN    NaN   NaN       NaN    NaN    NaN    NaN    NaN   \n",
       "60551  NaN       NaN  NaN    NaN   NaN       NaN    NaN    NaN    NaN    NaN   \n",
       "\n",
       "      essay4 essay5 essay6 essay7 essay8 essay9 ethnicity  height  income  \\\n",
       "60547    NaN    NaN    NaN    NaN    NaN    NaN       NaN     NaN     NaN   \n",
       "60548    NaN    NaN    NaN    NaN    NaN    NaN       NaN     NaN     NaN   \n",
       "60549    NaN    NaN    NaN    NaN    NaN    NaN       NaN     NaN     NaN   \n",
       "60550    NaN    NaN    NaN    NaN    NaN    NaN       NaN     NaN     NaN   \n",
       "60551    NaN    NaN    NaN    NaN    NaN    NaN       NaN     NaN     NaN   \n",
       "\n",
       "       job last_online location offspring orientation pets religion  sex sign  \\\n",
       "60547  NaN         NaN      NaN       NaN         NaN  NaN      NaN  NaN  NaN   \n",
       "60548  NaN         NaN      NaN       NaN         NaN  NaN      NaN  NaN  NaN   \n",
       "60549  NaN         NaN      NaN       NaN         NaN  NaN      NaN  NaN  NaN   \n",
       "60550  NaN         NaN      NaN       NaN         NaN  NaN      NaN  NaN  NaN   \n",
       "60551  NaN         NaN      NaN       NaN         NaN  NaN      NaN  NaN  NaN   \n",
       "\n",
       "      smokes speaks status  \n",
       "60547    NaN    NaN    NaN  \n",
       "60548    NaN    NaN    NaN  \n",
       "60549    NaN    NaN    NaN  \n",
       "60550    NaN    NaN    NaN  \n",
       "60551    NaN    NaN    NaN  "
      ]
     },
     "execution_count": 4,
     "metadata": {},
     "output_type": "execute_result"
    }
   ],
   "source": [
    "df.tail()"
   ]
  },
  {
   "cell_type": "code",
   "execution_count": 5,
   "metadata": {},
   "outputs": [],
   "source": [
    "#veri setimizin bazı değerlerinin hepsi null olduğu için filtreleme yaparak aynı değerde olanlar(null) datasetten kaldırıldı\n",
    "df=df.drop_duplicates()[:9514]"
   ]
  },
  {
   "cell_type": "code",
   "execution_count": 6,
   "metadata": {},
   "outputs": [
    {
     "data": {
      "text/html": [
       "<div>\n",
       "<style scoped>\n",
       "    .dataframe tbody tr th:only-of-type {\n",
       "        vertical-align: middle;\n",
       "    }\n",
       "\n",
       "    .dataframe tbody tr th {\n",
       "        vertical-align: top;\n",
       "    }\n",
       "\n",
       "    .dataframe thead th {\n",
       "        text-align: right;\n",
       "    }\n",
       "</style>\n",
       "<table border=\"1\" class=\"dataframe\">\n",
       "  <thead>\n",
       "    <tr style=\"text-align: right;\">\n",
       "      <th></th>\n",
       "      <th>age</th>\n",
       "      <th>body_type</th>\n",
       "      <th>diet</th>\n",
       "      <th>drinks</th>\n",
       "      <th>drugs</th>\n",
       "      <th>education</th>\n",
       "      <th>essay0</th>\n",
       "      <th>essay1</th>\n",
       "      <th>essay2</th>\n",
       "      <th>essay3</th>\n",
       "      <th>essay4</th>\n",
       "      <th>essay5</th>\n",
       "      <th>essay6</th>\n",
       "      <th>essay7</th>\n",
       "      <th>essay8</th>\n",
       "      <th>essay9</th>\n",
       "      <th>ethnicity</th>\n",
       "      <th>height</th>\n",
       "      <th>income</th>\n",
       "      <th>job</th>\n",
       "      <th>last_online</th>\n",
       "      <th>location</th>\n",
       "      <th>offspring</th>\n",
       "      <th>orientation</th>\n",
       "      <th>pets</th>\n",
       "      <th>religion</th>\n",
       "      <th>sex</th>\n",
       "      <th>sign</th>\n",
       "      <th>smokes</th>\n",
       "      <th>speaks</th>\n",
       "      <th>status</th>\n",
       "    </tr>\n",
       "  </thead>\n",
       "  <tbody>\n",
       "    <tr>\n",
       "      <th>9511</th>\n",
       "      <td>34.0</td>\n",
       "      <td>average</td>\n",
       "      <td>NaN</td>\n",
       "      <td>socially</td>\n",
       "      <td>NaN</td>\n",
       "      <td>dropped out of college/university</td>\n",
       "      <td>33 year old, hiv +,versatile gwm, bearish type...</td>\n",
       "      <td>i've just recently moved to beautiful san fran...</td>\n",
       "      <td>buying \"crap\" at random places and then sellin...</td>\n",
       "      <td>i usually go unnoticed.......</td>\n",
       "      <td>my favorite books - i don't read as much as i ...</td>\n",
       "      <td>-my record player&lt;br /&gt;\\n-my internet connecti...</td>\n",
       "      <td>nothing and everything all at once</td>\n",
       "      <td>probably working. then having drinks in the ca...</td>\n",
       "      <td>i smoke marijuana, but nothing harder.</td>\n",
       "      <td>you're interested, duh!?!?</td>\n",
       "      <td>white</td>\n",
       "      <td>71.0</td>\n",
       "      <td>-1.0</td>\n",
       "      <td>hospitality / travel</td>\n",
       "      <td>2012-04-28-12-42</td>\n",
       "      <td>san francisco, california</td>\n",
       "      <td>doesn&amp;rsquo;t want kids</td>\n",
       "      <td>gay</td>\n",
       "      <td>likes dogs and has cats</td>\n",
       "      <td>atheism and laughing about it</td>\n",
       "      <td>m</td>\n",
       "      <td>leo and it&amp;rsquo;s fun to think about</td>\n",
       "      <td>when drinking</td>\n",
       "      <td>english (fluently)</td>\n",
       "      <td>single</td>\n",
       "    </tr>\n",
       "    <tr>\n",
       "      <th>9512</th>\n",
       "      <td>29.0</td>\n",
       "      <td>athletic</td>\n",
       "      <td>anything</td>\n",
       "      <td>rarely</td>\n",
       "      <td>never</td>\n",
       "      <td>two-year college</td>\n",
       "      <td>NaN</td>\n",
       "      <td>NaN</td>\n",
       "      <td>NaN</td>\n",
       "      <td>NaN</td>\n",
       "      <td>NaN</td>\n",
       "      <td>NaN</td>\n",
       "      <td>NaN</td>\n",
       "      <td>NaN</td>\n",
       "      <td>NaN</td>\n",
       "      <td>NaN</td>\n",
       "      <td>white</td>\n",
       "      <td>70.0</td>\n",
       "      <td>-1.0</td>\n",
       "      <td>NaN</td>\n",
       "      <td>2012-03-01-15-17</td>\n",
       "      <td>san francisco, california</td>\n",
       "      <td>doesn&amp;rsquo;t have kids, and doesn&amp;rsquo;t wan...</td>\n",
       "      <td>gay</td>\n",
       "      <td>likes dogs and has cats</td>\n",
       "      <td>NaN</td>\n",
       "      <td>m</td>\n",
       "      <td>aries</td>\n",
       "      <td>no</td>\n",
       "      <td>english (fluently), french (okay), swedish (po...</td>\n",
       "      <td>single</td>\n",
       "    </tr>\n",
       "    <tr>\n",
       "      <th>9513</th>\n",
       "      <td>49.0</td>\n",
       "      <td>overweight</td>\n",
       "      <td>NaN</td>\n",
       "      <td>rarely</td>\n",
       "      <td>never</td>\n",
       "      <td>graduated from college/university</td>\n",
       "      <td>NaN</td>\n",
       "      <td>NaN</td>\n",
       "      <td>NaN</td>\n",
       "      <td>NaN</td>\n",
       "      <td>books: biographies, history, harry potter, mys...</td>\n",
       "      <td>the internet, art supplies, family, garden, my...</td>\n",
       "      <td>NaN</td>\n",
       "      <td>NaN</td>\n",
       "      <td>NaN</td>\n",
       "      <td>NaN</td>\n",
       "      <td>white</td>\n",
       "      <td>64.0</td>\n",
       "      <td>-1.0</td>\n",
       "      <td>rather not say</td>\n",
       "      <td>2012-06-14-15-14</td>\n",
       "      <td>castro valley, california</td>\n",
       "      <td>NaN</td>\n",
       "      <td>straight</td>\n",
       "      <td>likes dogs and likes cats</td>\n",
       "      <td>NaN</td>\n",
       "      <td>f</td>\n",
       "      <td>pisces and it&amp;rsquo;s fun to think about</td>\n",
       "      <td>no</td>\n",
       "      <td>english</td>\n",
       "      <td>single</td>\n",
       "    </tr>\n",
       "  </tbody>\n",
       "</table>\n",
       "</div>"
      ],
      "text/plain": [
       "       age   body_type      diet    drinks  drugs  \\\n",
       "9511  34.0     average       NaN  socially    NaN   \n",
       "9512  29.0    athletic  anything    rarely  never   \n",
       "9513  49.0  overweight       NaN    rarely  never   \n",
       "\n",
       "                              education  \\\n",
       "9511  dropped out of college/university   \n",
       "9512                   two-year college   \n",
       "9513  graduated from college/university   \n",
       "\n",
       "                                                 essay0  \\\n",
       "9511  33 year old, hiv +,versatile gwm, bearish type...   \n",
       "9512                                                NaN   \n",
       "9513                                                NaN   \n",
       "\n",
       "                                                 essay1  \\\n",
       "9511  i've just recently moved to beautiful san fran...   \n",
       "9512                                                NaN   \n",
       "9513                                                NaN   \n",
       "\n",
       "                                                 essay2  \\\n",
       "9511  buying \"crap\" at random places and then sellin...   \n",
       "9512                                                NaN   \n",
       "9513                                                NaN   \n",
       "\n",
       "                             essay3  \\\n",
       "9511  i usually go unnoticed.......   \n",
       "9512                            NaN   \n",
       "9513                            NaN   \n",
       "\n",
       "                                                 essay4  \\\n",
       "9511  my favorite books - i don't read as much as i ...   \n",
       "9512                                                NaN   \n",
       "9513  books: biographies, history, harry potter, mys...   \n",
       "\n",
       "                                                 essay5  \\\n",
       "9511  -my record player<br />\\n-my internet connecti...   \n",
       "9512                                                NaN   \n",
       "9513  the internet, art supplies, family, garden, my...   \n",
       "\n",
       "                                  essay6  \\\n",
       "9511  nothing and everything all at once   \n",
       "9512                                 NaN   \n",
       "9513                                 NaN   \n",
       "\n",
       "                                                 essay7  \\\n",
       "9511  probably working. then having drinks in the ca...   \n",
       "9512                                                NaN   \n",
       "9513                                                NaN   \n",
       "\n",
       "                                      essay8                      essay9  \\\n",
       "9511  i smoke marijuana, but nothing harder.  you're interested, duh!?!?   \n",
       "9512                                     NaN                         NaN   \n",
       "9513                                     NaN                         NaN   \n",
       "\n",
       "     ethnicity  height  income                   job       last_online  \\\n",
       "9511     white    71.0    -1.0  hospitality / travel  2012-04-28-12-42   \n",
       "9512     white    70.0    -1.0                   NaN  2012-03-01-15-17   \n",
       "9513     white    64.0    -1.0        rather not say  2012-06-14-15-14   \n",
       "\n",
       "                       location  \\\n",
       "9511  san francisco, california   \n",
       "9512  san francisco, california   \n",
       "9513  castro valley, california   \n",
       "\n",
       "                                              offspring orientation  \\\n",
       "9511                            doesn&rsquo;t want kids         gay   \n",
       "9512  doesn&rsquo;t have kids, and doesn&rsquo;t wan...         gay   \n",
       "9513                                                NaN    straight   \n",
       "\n",
       "                           pets                       religion sex  \\\n",
       "9511    likes dogs and has cats  atheism and laughing about it   m   \n",
       "9512    likes dogs and has cats                            NaN   m   \n",
       "9513  likes dogs and likes cats                            NaN   f   \n",
       "\n",
       "                                          sign         smokes  \\\n",
       "9511     leo and it&rsquo;s fun to think about  when drinking   \n",
       "9512                                     aries             no   \n",
       "9513  pisces and it&rsquo;s fun to think about             no   \n",
       "\n",
       "                                                 speaks  status  \n",
       "9511                                 english (fluently)  single  \n",
       "9512  english (fluently), french (okay), swedish (po...  single  \n",
       "9513                                            english  single  "
      ]
     },
     "execution_count": 6,
     "metadata": {},
     "output_type": "execute_result"
    }
   ],
   "source": [
    "df.tail(3)"
   ]
  },
  {
   "cell_type": "code",
   "execution_count": 7,
   "metadata": {},
   "outputs": [
    {
     "name": "stdout",
     "output_type": "stream",
     "text": [
      "<class 'pandas.core.frame.DataFrame'>\n",
      "Int64Index: 9514 entries, 0 to 9513\n",
      "Data columns (total 31 columns):\n",
      " #   Column       Non-Null Count  Dtype  \n",
      "---  ------       --------------  -----  \n",
      " 0   age          9514 non-null   float64\n",
      " 1   body_type    8666 non-null   object \n",
      " 2   diet         5761 non-null   object \n",
      " 3   drinks       9012 non-null   object \n",
      " 4   drugs        7215 non-null   object \n",
      " 5   education    8459 non-null   object \n",
      " 6   essay0       8667 non-null   object \n",
      " 7   essay1       8347 non-null   object \n",
      " 8   essay2       8049 non-null   object \n",
      " 9   essay3       7690 non-null   object \n",
      " 10  essay4       7879 non-null   object \n",
      " 11  essay5       7814 non-null   object \n",
      " 12  essay6       7352 non-null   object \n",
      " 13  essay7       7553 non-null   object \n",
      " 14  essay8       6361 non-null   object \n",
      " 15  essay9       7554 non-null   object \n",
      " 16  ethnicity    8565 non-null   object \n",
      " 17  height       9514 non-null   float64\n",
      " 18  income       9514 non-null   float64\n",
      " 19  job          8183 non-null   object \n",
      " 20  last_online  9514 non-null   object \n",
      " 21  location     9514 non-null   object \n",
      " 22  offspring    3886 non-null   object \n",
      " 23  orientation  9514 non-null   object \n",
      " 24  pets         6352 non-null   object \n",
      " 25  religion     6261 non-null   object \n",
      " 26  sex          9514 non-null   object \n",
      " 27  sign         7776 non-null   object \n",
      " 28  smokes       8596 non-null   object \n",
      " 29  speaks       9508 non-null   object \n",
      " 30  status       9514 non-null   object \n",
      "dtypes: float64(3), object(28)\n",
      "memory usage: 2.3+ MB\n"
     ]
    }
   ],
   "source": [
    "df.info()"
   ]
  },
  {
   "cell_type": "code",
   "execution_count": 8,
   "metadata": {},
   "outputs": [],
   "source": [
    "#essay alanları regression veya classification da işleme alınmayacağından kaldırıldı\n",
    "for i in df:\n",
    "    if (\"essay\" in i):\n",
    "        df.drop(i,axis=1,inplace=True)"
   ]
  },
  {
   "cell_type": "code",
   "execution_count": 9,
   "metadata": {},
   "outputs": [],
   "source": [
    "skinnystatus={\"average\":\"fit\",\n",
    "              \"fit\":\"fit\",\n",
    "              \"athletic\":\"fit\",\n",
    "              \"thin\":\"fit\",\n",
    "              \"curvy\":\"curvy\",\n",
    "              \"a little extra\":\"curvy\",\n",
    "              \"skinny\":\"fit\",\n",
    "              \"full figured\":\"curvy\",\n",
    "              \"overweight\":\"bad\",\n",
    "              \"jacked\":\"bad\",\n",
    "              \"used up\":\"bad\",\n",
    "              \"rather not say\":\"curvy\"\n",
    "             }\n",
    "df.body_type.replace(skinnystatus,inplace=True)"
   ]
  },
  {
   "cell_type": "code",
   "execution_count": 10,
   "metadata": {},
   "outputs": [
    {
     "data": {
      "text/plain": [
       "<AxesSubplot:>"
      ]
     },
     "execution_count": 10,
     "metadata": {},
     "output_type": "execute_result"
    },
    {
     "data": {
      "image/png": "[encoded data removed]",
      "text/plain": [
       "<Figure size 432x288 with 1 Axes>"
      ]
     },
     "metadata": {
      "needs_background": "light"
     },
     "output_type": "display_data"
    }
   ],
   "source": [
    "df.body_type.value_counts().plot.bar()"
   ]
  },
  {
   "cell_type": "code",
   "execution_count": 11,
   "metadata": {
    "scrolled": false
   },
   "outputs": [
    {
     "data": {
      "text/plain": [
       "<AxesSubplot:>"
      ]
     },
     "execution_count": 11,
     "metadata": {},
     "output_type": "execute_result"
    },
    {
     "data": {
      "image/png": "[encoded data removed]",
      "text/plain": [
       "<Figure size 432x288 with 1 Axes>"
      ]
     },
     "metadata": {
      "needs_background": "light"
     },
     "output_type": "display_data"
    }
   ],
   "source": [
    "status={\"mostly\":\"\",\"strictly\":\"\"}\n",
    "df[\"diet\"].replace(status,regex=True,inplace=True)\n",
    "df[\"diet\"]=df[\"diet\"].str.strip()\n",
    "df[\"diet\"].value_counts().plot.bar()"
   ]
  },
  {
   "cell_type": "code",
   "execution_count": 12,
   "metadata": {
    "scrolled": true
   },
   "outputs": [
    {
     "data": {
      "text/plain": [
       "<AxesSubplot:>"
      ]
     },
     "execution_count": 12,
     "metadata": {},
     "output_type": "execute_result"
    },
    {
     "data": {
      "image/png": "[encoded data removed]",
      "text/plain": [
       "<Figure size 432x288 with 1 Axes>"
      ]
     },
     "metadata": {
      "needs_background": "light"
     },
     "output_type": "display_data"
    }
   ],
   "source": [
    "df.drinks.value_counts().plot.bar()"
   ]
  },
  {
   "cell_type": "code",
   "execution_count": 13,
   "metadata": {},
   "outputs": [
    {
     "data": {
      "text/plain": [
       "<AxesSubplot:>"
      ]
     },
     "execution_count": 13,
     "metadata": {},
     "output_type": "execute_result"
    },
    {
     "data": {
      "image/png": "[encoded data removed]",
      "text/plain": [
       "<Figure size 432x288 with 1 Axes>"
      ]
     },
     "metadata": {
      "needs_background": "light"
     },
     "output_type": "display_data"
    }
   ],
   "source": [
    "df.drugs.value_counts().plot.bar()"
   ]
  },
  {
   "cell_type": "code",
   "execution_count": 14,
   "metadata": {},
   "outputs": [
    {
     "data": {
      "text/plain": [
       "<AxesSubplot:>"
      ]
     },
     "execution_count": 14,
     "metadata": {},
     "output_type": "execute_result"
    },
    {
     "data": {
      "image/png": "[encoded data removed]",
      "text/plain": [
       "<Figure size 432x288 with 1 Axes>"
      ]
     },
     "metadata": {
      "needs_background": "light"
     },
     "output_type": "display_data"
    }
   ],
   "source": [
    "df[\"education\"].replace({\"working on\":\"student\",\"graduated from\":\"graduated\",\"dropped out\":\"dropped\"},regex=True)\n",
    "df[\"education\"]=df[\"education\"].str.split().str[0]\n",
    "df[\"education\"].replace({\"college/university\":\"student\",\"two-year\":\"student\",\"masters\":\"student\",\"working\":\"student\",\"space\":\"student\",\"ph.d\":\"graduated\",\"law\":\"graduated\",\"high\":\"graduated\"},regex=True,inplace=True)\n",
    "df[\"education\"].value_counts().plot.bar()"
   ]
  },
  {
   "cell_type": "code",
   "execution_count": 15,
   "metadata": {},
   "outputs": [],
   "source": [
    "df.drop([\"ethnicity\",\"job\"],axis=1,inplace=True)"
   ]
  },
  {
   "cell_type": "code",
   "execution_count": 16,
   "metadata": {},
   "outputs": [
    {
     "data": {
      "text/plain": [
       "<AxesSubplot:xlabel='height'>"
      ]
     },
     "execution_count": 16,
     "metadata": {},
     "output_type": "execute_result"
    },
    {
     "data": {
      "image/png": "[encoded data removed]",
      "text/plain": [
       "<Figure size 432x288 with 1 Axes>"
      ]
     },
     "metadata": {
      "needs_background": "light"
     },
     "output_type": "display_data"
    }
   ],
   "source": [
    "sns.boxplot(\"height\",data=df)"
   ]
  },
  {
   "cell_type": "code",
   "execution_count": 17,
   "metadata": {},
   "outputs": [
    {
     "data": {
      "text/plain": [
       "<AxesSubplot:xlabel='income'>"
      ]
     },
     "execution_count": 17,
     "metadata": {},
     "output_type": "execute_result"
    },
    {
     "data": {
      "image/png": "[encoded data removed]",
      "text/plain": [
       "<Figure size 432x288 with 1 Axes>"
      ]
     },
     "metadata": {
      "needs_background": "light"
     },
     "output_type": "display_data"
    }
   ],
   "source": [
    "sns.boxplot(\"income\",data=df)"
   ]
  },
  {
   "cell_type": "code",
   "execution_count": 18,
   "metadata": {
    "scrolled": true
   },
   "outputs": [
    {
     "data": {
      "text/plain": [
       "<AxesSubplot:xlabel='last_online_year', ylabel='count'>"
      ]
     },
     "execution_count": 18,
     "metadata": {},
     "output_type": "execute_result"
    },
    {
     "data": {
      "image/png": "[encoded data removed]",
      "text/plain": [
       "<Figure size 432x288 with 1 Axes>"
      ]
     },
     "metadata": {
      "needs_background": "light"
     },
     "output_type": "display_data"
    }
   ],
   "source": [
    "df[\"last_online_year\"]=2021-(df['last_online'].str[:4]).astype(int)\n",
    "df[\"last_online_month\"]=(df['last_online'].str[5:7]).astype(int)\n",
    "df.drop('last_online',axis=1)\n",
    "sns.countplot(\"last_online_year\",hue=\"last_online_month\",data=df)"
   ]
  },
  {
   "cell_type": "code",
   "execution_count": 19,
   "metadata": {},
   "outputs": [
    {
     "data": {
      "text/plain": [
       "<AxesSubplot:>"
      ]
     },
     "execution_count": 19,
     "metadata": {},
     "output_type": "execute_result"
    },
    {
     "data": {
      "image/png": "[encoded data removed]",
      "text/plain": [
       "<Figure size 1080x360 with 1 Axes>"
      ]
     },
     "metadata": {
      "needs_background": "light"
     },
     "output_type": "display_data"
    }
   ],
   "source": [
    "df.location=df.location.str.split(\",\").str[0]\n",
    "plt.figure(figsize=(15,5))\n",
    "df.location.value_counts().plot.bar()"
   ]
  },
  {
   "cell_type": "code",
   "execution_count": 20,
   "metadata": {},
   "outputs": [
    {
     "data": {
      "text/plain": [
       "<AxesSubplot:>"
      ]
     },
     "execution_count": 20,
     "metadata": {},
     "output_type": "execute_result"
    },
    {
     "data": {
      "image/png": "[encoded data removed]",
      "text/plain": [
       "<Figure size 432x288 with 1 Axes>"
      ]
     },
     "metadata": {
      "needs_background": "light"
     },
     "output_type": "display_data"
    }
   ],
   "source": [
    "offsprings=[]\n",
    "for i in df.offspring.fillna(\"bilinmiyor\").str.replace(\"[^\\w\\s]\",\"\"):\n",
    "    if \"doesnrsquot\" in i:\n",
    "        offsprings.append(\"0\")\n",
    "    elif \"bilinmiyor\" in i:\n",
    "        offsprings.append(\"0\")\n",
    "    else:\n",
    "        offsprings.append(\"1\")\n",
    "        \n",
    "df[\"offspring\"]=offsprings\n",
    "df[\"offspring\"]=df[\"offspring\"].astype(int)\n",
    "df[\"offspring\"].value_counts().plot.bar()"
   ]
  },
  {
   "cell_type": "code",
   "execution_count": 21,
   "metadata": {},
   "outputs": [
    {
     "data": {
      "text/plain": [
       "<AxesSubplot:>"
      ]
     },
     "execution_count": 21,
     "metadata": {},
     "output_type": "execute_result"
    },
    {
     "data": {
      "image/png": "[encoded data removed]",
      "text/plain": [
       "<Figure size 432x288 with 1 Axes>"
      ]
     },
     "metadata": {
      "needs_background": "light"
     },
     "output_type": "display_data"
    }
   ],
   "source": [
    "df.orientation.value_counts().plot.bar()"
   ]
  },
  {
   "cell_type": "code",
   "execution_count": 22,
   "metadata": {},
   "outputs": [
    {
     "data": {
      "text/plain": [
       "<AxesSubplot:>"
      ]
     },
     "execution_count": 22,
     "metadata": {},
     "output_type": "execute_result"
    },
    {
     "data": {
      "image/png": "[encoded data removed]",
      "text/plain": [
       "<Figure size 432x288 with 1 Axes>"
      ]
     },
     "metadata": {
      "needs_background": "light"
     },
     "output_type": "display_data"
    }
   ],
   "source": [
    "df.pets.value_counts().plot.bar()"
   ]
  },
  {
   "cell_type": "code",
   "execution_count": 23,
   "metadata": {},
   "outputs": [
    {
     "data": {
      "text/plain": [
       "<AxesSubplot:>"
      ]
     },
     "execution_count": 23,
     "metadata": {},
     "output_type": "execute_result"
    },
    {
     "data": {
      "image/png": "[encoded data removed]",
      "text/plain": [
       "<Figure size 432x288 with 1 Axes>"
      ]
     },
     "metadata": {
      "needs_background": "light"
     },
     "output_type": "display_data"
    }
   ],
   "source": [
    "df[\"religion\"]=df[\"religion\"].str.split().str[0]\n",
    "df[\"religion\"].value_counts().plot.bar()"
   ]
  },
  {
   "cell_type": "code",
   "execution_count": 24,
   "metadata": {},
   "outputs": [
    {
     "data": {
      "text/plain": [
       "<AxesSubplot:>"
      ]
     },
     "execution_count": 24,
     "metadata": {},
     "output_type": "execute_result"
    },
    {
     "data": {
      "image/png": "[encoded data removed]",
      "text/plain": [
       "<Figure size 432x288 with 1 Axes>"
      ]
     },
     "metadata": {
      "needs_background": "light"
     },
     "output_type": "display_data"
    }
   ],
   "source": [
    "df.sex.value_counts().plot.bar()"
   ]
  },
  {
   "cell_type": "code",
   "execution_count": 25,
   "metadata": {},
   "outputs": [
    {
     "data": {
      "text/plain": [
       "<AxesSubplot:>"
      ]
     },
     "execution_count": 25,
     "metadata": {},
     "output_type": "execute_result"
    },
    {
     "data": {
      "image/png": "[encoded data removed]",
      "text/plain": [
       "<Figure size 432x288 with 1 Axes>"
      ]
     },
     "metadata": {
      "needs_background": "light"
     },
     "output_type": "display_data"
    }
   ],
   "source": [
    "df[\"sign\"]=df[\"sign\"].str.split().str[0]\n",
    "df[\"sign\"].value_counts().plot.bar()"
   ]
  },
  {
   "cell_type": "code",
   "execution_count": 26,
   "metadata": {},
   "outputs": [
    {
     "data": {
      "text/plain": [
       "<AxesSubplot:>"
      ]
     },
     "execution_count": 26,
     "metadata": {},
     "output_type": "execute_result"
    },
    {
     "data": {
      "image/png": "[encoded data removed]",
      "text/plain": [
       "<Figure size 432x288 with 1 Axes>"
      ]
     },
     "metadata": {
      "needs_background": "light"
     },
     "output_type": "display_data"
    }
   ],
   "source": [
    "df.smokes.value_counts().plot.bar()"
   ]
  },
  {
   "cell_type": "code",
   "execution_count": 27,
   "metadata": {},
   "outputs": [],
   "source": [
    "df[\"number_of_fluent_languages\"]=df.speaks.str.count(\"fluently\")\n",
    "df[\"number_of_fluent_languages\"].replace(0,1,regex=True,inplace=True)\n",
    "df[\"number_of_poorly_languages\"]=df.speaks.str.count(\"poorly\")\n",
    "df.drop(\"speaks\",axis=1,inplace=True)"
   ]
  },
  {
   "cell_type": "code",
   "execution_count": 28,
   "metadata": {},
   "outputs": [
    {
     "data": {
      "text/plain": [
       "<AxesSubplot:xlabel='number_of_fluent_languages', ylabel='count'>"
      ]
     },
     "execution_count": 28,
     "metadata": {},
     "output_type": "execute_result"
    },
    {
     "data": {
      "image/png": "[encoded data removed]",
      "text/plain": [
       "<Figure size 432x288 with 1 Axes>"
      ]
     },
     "metadata": {
      "needs_background": "light"
     },
     "output_type": "display_data"
    }
   ],
   "source": [
    "sns.countplot(df[\"number_of_fluent_languages\"])"
   ]
  },
  {
   "cell_type": "code",
   "execution_count": 29,
   "metadata": {},
   "outputs": [
    {
     "data": {
      "text/plain": [
       "<AxesSubplot:xlabel='number_of_poorly_languages', ylabel='count'>"
      ]
     },
     "execution_count": 29,
     "metadata": {},
     "output_type": "execute_result"
    },
    {
     "data": {
      "image/png": "[encoded data removed]",
      "text/plain": [
       "<Figure size 432x288 with 1 Axes>"
      ]
     },
     "metadata": {
      "needs_background": "light"
     },
     "output_type": "display_data"
    }
   ],
   "source": [
    "sns.countplot(df[\"number_of_poorly_languages\"])"
   ]
  },
  {
   "cell_type": "code",
   "execution_count": 30,
   "metadata": {},
   "outputs": [
    {
     "data": {
      "text/plain": [
       "<AxesSubplot:>"
      ]
     },
     "execution_count": 30,
     "metadata": {},
     "output_type": "execute_result"
    },
    {
     "data": {
      "image/png": "[encoded data removed]",
      "text/plain": [
       "<Figure size 432x288 with 1 Axes>"
      ]
     },
     "metadata": {
      "needs_background": "light"
     },
     "output_type": "display_data"
    }
   ],
   "source": [
    "df.status.value_counts().plot.bar()"
   ]
  },
  {
   "cell_type": "code",
   "execution_count": 31,
   "metadata": {},
   "outputs": [],
   "source": [
    "#Tüm number değerler ortalamalar ile dolduruldu\n",
    "for column in df.select_dtypes(include=np.number):\n",
    "    df[column].fillna(df[column].median(),inplace=True)"
   ]
  },
  {
   "cell_type": "code",
   "execution_count": 32,
   "metadata": {},
   "outputs": [],
   "source": [
    "#Tüm object değerler en çok olan değer ile dolduruldu\n",
    "for column in df.select_dtypes(include=np.object):\n",
    "    df[column].fillna(df[column].mode()[0],inplace=True)"
   ]
  },
  {
   "cell_type": "code",
   "execution_count": 33,
   "metadata": {},
   "outputs": [
    {
     "data": {
      "text/plain": [
       "age                           0\n",
       "body_type                     0\n",
       "diet                          0\n",
       "drinks                        0\n",
       "drugs                         0\n",
       "education                     0\n",
       "height                        0\n",
       "income                        0\n",
       "last_online                   0\n",
       "location                      0\n",
       "offspring                     0\n",
       "orientation                   0\n",
       "pets                          0\n",
       "religion                      0\n",
       "sex                           0\n",
       "sign                          0\n",
       "smokes                        0\n",
       "status                        0\n",
       "last_online_year              0\n",
       "last_online_month             0\n",
       "number_of_fluent_languages    0\n",
       "number_of_poorly_languages    0\n",
       "dtype: int64"
      ]
     },
     "execution_count": 33,
     "metadata": {},
     "output_type": "execute_result"
    }
   ],
   "source": [
    "df.isnull().sum()"
   ]
  },
  {
   "cell_type": "code",
   "execution_count": 34,
   "metadata": {},
   "outputs": [],
   "source": [
    "epoch=[]\n",
    "for i in df[\"age\"].values:\n",
    "    if (i>=18) and (i<=32):\n",
    "        epoch.append(\"Millennial\")\n",
    "    elif (i>=33) and (i<=47):\n",
    "        epoch.append(\"Gen X-er\")\n",
    "    elif (48>=33) and (i<=70):\n",
    "        epoch.append(\"Boomers\")\n",
    "    else:\n",
    "        epoch.append(\"Unkown\")\n",
    "\n",
    "df[\"epoch\"]=epoch"
   ]
  },
  {
   "cell_type": "code",
   "execution_count": 35,
   "metadata": {},
   "outputs": [
    {
     "data": {
      "text/plain": [
       "<AxesSubplot:>"
      ]
     },
     "execution_count": 35,
     "metadata": {},
     "output_type": "execute_result"
    },
    {
     "data": {
      "image/png": "[encoded data removed]",
      "text/plain": [
       "<Figure size 432x288 with 1 Axes>"
      ]
     },
     "metadata": {
      "needs_background": "light"
     },
     "output_type": "display_data"
    }
   ],
   "source": [
    "#1 tane 110 yaşında olanı da Boomers kuşağına aktardım\n",
    "df[\"epoch\"].replace(\"Unkown\",\"Boomers\",regex=True,inplace=True)\n",
    "df[\"epoch\"].value_counts().plot.bar()"
   ]
  },
  {
   "cell_type": "code",
   "execution_count": 36,
   "metadata": {},
   "outputs": [
    {
     "data": {
      "text/html": [
       "<div>\n",
       "<style scoped>\n",
       "    .dataframe tbody tr th:only-of-type {\n",
       "        vertical-align: middle;\n",
       "    }\n",
       "\n",
       "    .dataframe tbody tr th {\n",
       "        vertical-align: top;\n",
       "    }\n",
       "\n",
       "    .dataframe thead th {\n",
       "        text-align: right;\n",
       "    }\n",
       "</style>\n",
       "<table border=\"1\" class=\"dataframe\">\n",
       "  <thead>\n",
       "    <tr style=\"text-align: right;\">\n",
       "      <th></th>\n",
       "      <th>age</th>\n",
       "      <th>body_type</th>\n",
       "      <th>diet</th>\n",
       "      <th>drinks</th>\n",
       "      <th>drugs</th>\n",
       "      <th>education</th>\n",
       "      <th>height</th>\n",
       "      <th>income</th>\n",
       "      <th>last_online</th>\n",
       "      <th>location</th>\n",
       "      <th>offspring</th>\n",
       "      <th>orientation</th>\n",
       "      <th>pets</th>\n",
       "      <th>religion</th>\n",
       "      <th>sex</th>\n",
       "      <th>sign</th>\n",
       "      <th>smokes</th>\n",
       "      <th>status</th>\n",
       "      <th>last_online_year</th>\n",
       "      <th>last_online_month</th>\n",
       "      <th>number_of_fluent_languages</th>\n",
       "      <th>number_of_poorly_languages</th>\n",
       "      <th>epoch</th>\n",
       "    </tr>\n",
       "  </thead>\n",
       "  <tbody>\n",
       "    <tr>\n",
       "      <th>6980</th>\n",
       "      <td>48.0</td>\n",
       "      <td>fit</td>\n",
       "      <td>anything</td>\n",
       "      <td>socially</td>\n",
       "      <td>never</td>\n",
       "      <td>graduated</td>\n",
       "      <td>69.0</td>\n",
       "      <td>-1.0</td>\n",
       "      <td>2012-06-18-14-14</td>\n",
       "      <td>oakland</td>\n",
       "      <td>1</td>\n",
       "      <td>gay</td>\n",
       "      <td>likes dogs and likes cats</td>\n",
       "      <td>other</td>\n",
       "      <td>m</td>\n",
       "      <td>sagittarius</td>\n",
       "      <td>no</td>\n",
       "      <td>single</td>\n",
       "      <td>9</td>\n",
       "      <td>6</td>\n",
       "      <td>1.0</td>\n",
       "      <td>0.0</td>\n",
       "      <td>Boomers</td>\n",
       "    </tr>\n",
       "    <tr>\n",
       "      <th>6792</th>\n",
       "      <td>48.0</td>\n",
       "      <td>fit</td>\n",
       "      <td>anything</td>\n",
       "      <td>socially</td>\n",
       "      <td>never</td>\n",
       "      <td>student</td>\n",
       "      <td>68.0</td>\n",
       "      <td>-1.0</td>\n",
       "      <td>2012-05-19-19-56</td>\n",
       "      <td>san francisco</td>\n",
       "      <td>0</td>\n",
       "      <td>gay</td>\n",
       "      <td>likes dogs and likes cats</td>\n",
       "      <td>agnosticism</td>\n",
       "      <td>m</td>\n",
       "      <td>aquarius</td>\n",
       "      <td>no</td>\n",
       "      <td>single</td>\n",
       "      <td>9</td>\n",
       "      <td>5</td>\n",
       "      <td>1.0</td>\n",
       "      <td>0.0</td>\n",
       "      <td>Boomers</td>\n",
       "    </tr>\n",
       "    <tr>\n",
       "      <th>6949</th>\n",
       "      <td>26.0</td>\n",
       "      <td>fit</td>\n",
       "      <td>anything</td>\n",
       "      <td>socially</td>\n",
       "      <td>never</td>\n",
       "      <td>student</td>\n",
       "      <td>70.0</td>\n",
       "      <td>-1.0</td>\n",
       "      <td>2012-06-29-14-04</td>\n",
       "      <td>san francisco</td>\n",
       "      <td>0</td>\n",
       "      <td>gay</td>\n",
       "      <td>likes dogs and likes cats</td>\n",
       "      <td>other</td>\n",
       "      <td>m</td>\n",
       "      <td>virgo</td>\n",
       "      <td>sometimes</td>\n",
       "      <td>single</td>\n",
       "      <td>9</td>\n",
       "      <td>6</td>\n",
       "      <td>1.0</td>\n",
       "      <td>0.0</td>\n",
       "      <td>Millennial</td>\n",
       "    </tr>\n",
       "    <tr>\n",
       "      <th>1889</th>\n",
       "      <td>36.0</td>\n",
       "      <td>fit</td>\n",
       "      <td>anything</td>\n",
       "      <td>socially</td>\n",
       "      <td>never</td>\n",
       "      <td>graduated</td>\n",
       "      <td>67.0</td>\n",
       "      <td>-1.0</td>\n",
       "      <td>2012-06-29-17-56</td>\n",
       "      <td>san mateo</td>\n",
       "      <td>0</td>\n",
       "      <td>straight</td>\n",
       "      <td>likes dogs</td>\n",
       "      <td>agnosticism</td>\n",
       "      <td>m</td>\n",
       "      <td>leo</td>\n",
       "      <td>sometimes</td>\n",
       "      <td>single</td>\n",
       "      <td>9</td>\n",
       "      <td>6</td>\n",
       "      <td>1.0</td>\n",
       "      <td>0.0</td>\n",
       "      <td>Gen X-er</td>\n",
       "    </tr>\n",
       "    <tr>\n",
       "      <th>8835</th>\n",
       "      <td>25.0</td>\n",
       "      <td>fit</td>\n",
       "      <td>anything</td>\n",
       "      <td>socially</td>\n",
       "      <td>never</td>\n",
       "      <td>graduated</td>\n",
       "      <td>68.0</td>\n",
       "      <td>-1.0</td>\n",
       "      <td>2012-06-29-22-33</td>\n",
       "      <td>berkeley</td>\n",
       "      <td>0</td>\n",
       "      <td>straight</td>\n",
       "      <td>has dogs</td>\n",
       "      <td>other</td>\n",
       "      <td>m</td>\n",
       "      <td>capricorn</td>\n",
       "      <td>no</td>\n",
       "      <td>single</td>\n",
       "      <td>9</td>\n",
       "      <td>6</td>\n",
       "      <td>3.0</td>\n",
       "      <td>0.0</td>\n",
       "      <td>Millennial</td>\n",
       "    </tr>\n",
       "  </tbody>\n",
       "</table>\n",
       "</div>"
      ],
      "text/plain": [
       "       age body_type      diet    drinks  drugs  education  height  income  \\\n",
       "6980  48.0       fit  anything  socially  never  graduated    69.0    -1.0   \n",
       "6792  48.0       fit  anything  socially  never    student    68.0    -1.0   \n",
       "6949  26.0       fit  anything  socially  never    student    70.0    -1.0   \n",
       "1889  36.0       fit  anything  socially  never  graduated    67.0    -1.0   \n",
       "8835  25.0       fit  anything  socially  never  graduated    68.0    -1.0   \n",
       "\n",
       "           last_online       location  offspring orientation  \\\n",
       "6980  2012-06-18-14-14        oakland          1         gay   \n",
       "6792  2012-05-19-19-56  san francisco          0         gay   \n",
       "6949  2012-06-29-14-04  san francisco          0         gay   \n",
       "1889  2012-06-29-17-56      san mateo          0    straight   \n",
       "8835  2012-06-29-22-33       berkeley          0    straight   \n",
       "\n",
       "                           pets     religion sex         sign     smokes  \\\n",
       "6980  likes dogs and likes cats        other   m  sagittarius         no   \n",
       "6792  likes dogs and likes cats  agnosticism   m     aquarius         no   \n",
       "6949  likes dogs and likes cats        other   m        virgo  sometimes   \n",
       "1889                 likes dogs  agnosticism   m          leo  sometimes   \n",
       "8835                   has dogs        other   m    capricorn         no   \n",
       "\n",
       "      status  last_online_year  last_online_month  number_of_fluent_languages  \\\n",
       "6980  single                 9                  6                         1.0   \n",
       "6792  single                 9                  5                         1.0   \n",
       "6949  single                 9                  6                         1.0   \n",
       "1889  single                 9                  6                         1.0   \n",
       "8835  single                 9                  6                         3.0   \n",
       "\n",
       "      number_of_poorly_languages       epoch  \n",
       "6980                         0.0     Boomers  \n",
       "6792                         0.0     Boomers  \n",
       "6949                         0.0  Millennial  \n",
       "1889                         0.0    Gen X-er  \n",
       "8835                         0.0  Millennial  "
      ]
     },
     "execution_count": 36,
     "metadata": {},
     "output_type": "execute_result"
    }
   ],
   "source": [
    "#son durumda tablomuz:\n",
    "df.sample(5)"
   ]
  },
  {
   "cell_type": "code",
   "execution_count": 37,
   "metadata": {},
   "outputs": [
    {
     "data": {
      "text/html": [
       "<div>\n",
       "<style scoped>\n",
       "    .dataframe tbody tr th:only-of-type {\n",
       "        vertical-align: middle;\n",
       "    }\n",
       "\n",
       "    .dataframe tbody tr th {\n",
       "        vertical-align: top;\n",
       "    }\n",
       "\n",
       "    .dataframe thead th {\n",
       "        text-align: right;\n",
       "    }\n",
       "</style>\n",
       "<table border=\"1\" class=\"dataframe\">\n",
       "  <thead>\n",
       "    <tr style=\"text-align: right;\">\n",
       "      <th></th>\n",
       "      <th>age</th>\n",
       "      <th>height</th>\n",
       "      <th>income</th>\n",
       "      <th>offspring</th>\n",
       "      <th>last_online_year</th>\n",
       "      <th>last_online_month</th>\n",
       "      <th>number_of_fluent_languages</th>\n",
       "      <th>number_of_poorly_languages</th>\n",
       "    </tr>\n",
       "  </thead>\n",
       "  <tbody>\n",
       "    <tr>\n",
       "      <th>age</th>\n",
       "      <td>1.000000</td>\n",
       "      <td>-0.022078</td>\n",
       "      <td>0.011424</td>\n",
       "      <td>0.341753</td>\n",
       "      <td>-0.015792</td>\n",
       "      <td>-0.003527</td>\n",
       "      <td>-0.024795</td>\n",
       "      <td>-0.001559</td>\n",
       "    </tr>\n",
       "    <tr>\n",
       "      <th>height</th>\n",
       "      <td>-0.022078</td>\n",
       "      <td>1.000000</td>\n",
       "      <td>0.073105</td>\n",
       "      <td>-0.033389</td>\n",
       "      <td>-0.016633</td>\n",
       "      <td>-0.010858</td>\n",
       "      <td>0.015458</td>\n",
       "      <td>0.036414</td>\n",
       "    </tr>\n",
       "    <tr>\n",
       "      <th>income</th>\n",
       "      <td>0.011424</td>\n",
       "      <td>0.073105</td>\n",
       "      <td>1.000000</td>\n",
       "      <td>0.015045</td>\n",
       "      <td>0.009376</td>\n",
       "      <td>0.002043</td>\n",
       "      <td>0.039186</td>\n",
       "      <td>0.028577</td>\n",
       "    </tr>\n",
       "    <tr>\n",
       "      <th>offspring</th>\n",
       "      <td>0.341753</td>\n",
       "      <td>-0.033389</td>\n",
       "      <td>0.015045</td>\n",
       "      <td>1.000000</td>\n",
       "      <td>0.029129</td>\n",
       "      <td>0.005697</td>\n",
       "      <td>0.000841</td>\n",
       "      <td>-0.012303</td>\n",
       "    </tr>\n",
       "    <tr>\n",
       "      <th>last_online_year</th>\n",
       "      <td>-0.015792</td>\n",
       "      <td>-0.016633</td>\n",
       "      <td>0.009376</td>\n",
       "      <td>0.029129</td>\n",
       "      <td>1.000000</td>\n",
       "      <td>0.685183</td>\n",
       "      <td>-0.003813</td>\n",
       "      <td>-0.034827</td>\n",
       "    </tr>\n",
       "    <tr>\n",
       "      <th>last_online_month</th>\n",
       "      <td>-0.003527</td>\n",
       "      <td>-0.010858</td>\n",
       "      <td>0.002043</td>\n",
       "      <td>0.005697</td>\n",
       "      <td>0.685183</td>\n",
       "      <td>1.000000</td>\n",
       "      <td>-0.006593</td>\n",
       "      <td>-0.006141</td>\n",
       "    </tr>\n",
       "    <tr>\n",
       "      <th>number_of_fluent_languages</th>\n",
       "      <td>-0.024795</td>\n",
       "      <td>0.015458</td>\n",
       "      <td>0.039186</td>\n",
       "      <td>0.000841</td>\n",
       "      <td>-0.003813</td>\n",
       "      <td>-0.006593</td>\n",
       "      <td>1.000000</td>\n",
       "      <td>0.067774</td>\n",
       "    </tr>\n",
       "    <tr>\n",
       "      <th>number_of_poorly_languages</th>\n",
       "      <td>-0.001559</td>\n",
       "      <td>0.036414</td>\n",
       "      <td>0.028577</td>\n",
       "      <td>-0.012303</td>\n",
       "      <td>-0.034827</td>\n",
       "      <td>-0.006141</td>\n",
       "      <td>0.067774</td>\n",
       "      <td>1.000000</td>\n",
       "    </tr>\n",
       "  </tbody>\n",
       "</table>\n",
       "</div>"
      ],
      "text/plain": [
       "                                 age    height    income  offspring  \\\n",
       "age                         1.000000 -0.022078  0.011424   0.341753   \n",
       "height                     -0.022078  1.000000  0.073105  -0.033389   \n",
       "income                      0.011424  0.073105  1.000000   0.015045   \n",
       "offspring                   0.341753 -0.033389  0.015045   1.000000   \n",
       "last_online_year           -0.015792 -0.016633  0.009376   0.029129   \n",
       "last_online_month          -0.003527 -0.010858  0.002043   0.005697   \n",
       "number_of_fluent_languages -0.024795  0.015458  0.039186   0.000841   \n",
       "number_of_poorly_languages -0.001559  0.036414  0.028577  -0.012303   \n",
       "\n",
       "                            last_online_year  last_online_month  \\\n",
       "age                                -0.015792          -0.003527   \n",
       "height                             -0.016633          -0.010858   \n",
       "income                              0.009376           0.002043   \n",
       "offspring                           0.029129           0.005697   \n",
       "last_online_year                    1.000000           0.685183   \n",
       "last_online_month                   0.685183           1.000000   \n",
       "number_of_fluent_languages         -0.003813          -0.006593   \n",
       "number_of_poorly_languages         -0.034827          -0.006141   \n",
       "\n",
       "                            number_of_fluent_languages  \\\n",
       "age                                          -0.024795   \n",
       "height                                        0.015458   \n",
       "income                                        0.039186   \n",
       "offspring                                     0.000841   \n",
       "last_online_year                             -0.003813   \n",
       "last_online_month                            -0.006593   \n",
       "number_of_fluent_languages                    1.000000   \n",
       "number_of_poorly_languages                    0.067774   \n",
       "\n",
       "                            number_of_poorly_languages  \n",
       "age                                          -0.001559  \n",
       "height                                        0.036414  \n",
       "income                                        0.028577  \n",
       "offspring                                    -0.012303  \n",
       "last_online_year                             -0.034827  \n",
       "last_online_month                            -0.006141  \n",
       "number_of_fluent_languages                    0.067774  \n",
       "number_of_poorly_languages                    1.000000  "
      ]
     },
     "execution_count": 37,
     "metadata": {},
     "output_type": "execute_result"
    }
   ],
   "source": [
    "df.corr()"
   ]
  },
  {
   "cell_type": "code",
   "execution_count": 38,
   "metadata": {},
   "outputs": [
    {
     "data": {
      "text/html": [
       "<div>\n",
       "<style scoped>\n",
       "    .dataframe tbody tr th:only-of-type {\n",
       "        vertical-align: middle;\n",
       "    }\n",
       "\n",
       "    .dataframe tbody tr th {\n",
       "        vertical-align: top;\n",
       "    }\n",
       "\n",
       "    .dataframe thead th {\n",
       "        text-align: right;\n",
       "    }\n",
       "</style>\n",
       "<table border=\"1\" class=\"dataframe\">\n",
       "  <thead>\n",
       "    <tr style=\"text-align: right;\">\n",
       "      <th></th>\n",
       "      <th>age</th>\n",
       "      <th>height</th>\n",
       "      <th>income</th>\n",
       "      <th>offspring</th>\n",
       "      <th>last_online_year</th>\n",
       "      <th>last_online_month</th>\n",
       "      <th>number_of_fluent_languages</th>\n",
       "      <th>number_of_poorly_languages</th>\n",
       "    </tr>\n",
       "  </thead>\n",
       "  <tbody>\n",
       "    <tr>\n",
       "      <th>count</th>\n",
       "      <td>9514.000000</td>\n",
       "      <td>9514.000000</td>\n",
       "      <td>9514.000000</td>\n",
       "      <td>9514.000000</td>\n",
       "      <td>9514.000000</td>\n",
       "      <td>9514.000000</td>\n",
       "      <td>9514.000000</td>\n",
       "      <td>9514.000000</td>\n",
       "    </tr>\n",
       "    <tr>\n",
       "      <th>mean</th>\n",
       "      <td>32.084192</td>\n",
       "      <td>68.337398</td>\n",
       "      <td>18887.145155</td>\n",
       "      <td>0.076624</td>\n",
       "      <td>9.077255</td>\n",
       "      <td>5.864936</td>\n",
       "      <td>1.146941</td>\n",
       "      <td>0.338974</td>\n",
       "    </tr>\n",
       "    <tr>\n",
       "      <th>std</th>\n",
       "      <td>9.445488</td>\n",
       "      <td>3.905229</td>\n",
       "      <td>91428.807808</td>\n",
       "      <td>0.266008</td>\n",
       "      <td>0.267009</td>\n",
       "      <td>1.627365</td>\n",
       "      <td>0.413248</td>\n",
       "      <td>0.645990</td>\n",
       "    </tr>\n",
       "    <tr>\n",
       "      <th>min</th>\n",
       "      <td>18.000000</td>\n",
       "      <td>36.000000</td>\n",
       "      <td>-1.000000</td>\n",
       "      <td>0.000000</td>\n",
       "      <td>9.000000</td>\n",
       "      <td>1.000000</td>\n",
       "      <td>1.000000</td>\n",
       "      <td>0.000000</td>\n",
       "    </tr>\n",
       "    <tr>\n",
       "      <th>25%</th>\n",
       "      <td>25.000000</td>\n",
       "      <td>66.000000</td>\n",
       "      <td>-1.000000</td>\n",
       "      <td>0.000000</td>\n",
       "      <td>9.000000</td>\n",
       "      <td>6.000000</td>\n",
       "      <td>1.000000</td>\n",
       "      <td>0.000000</td>\n",
       "    </tr>\n",
       "    <tr>\n",
       "      <th>50%</th>\n",
       "      <td>30.000000</td>\n",
       "      <td>68.000000</td>\n",
       "      <td>-1.000000</td>\n",
       "      <td>0.000000</td>\n",
       "      <td>9.000000</td>\n",
       "      <td>6.000000</td>\n",
       "      <td>1.000000</td>\n",
       "      <td>0.000000</td>\n",
       "    </tr>\n",
       "    <tr>\n",
       "      <th>75%</th>\n",
       "      <td>36.000000</td>\n",
       "      <td>71.000000</td>\n",
       "      <td>-1.000000</td>\n",
       "      <td>0.000000</td>\n",
       "      <td>9.000000</td>\n",
       "      <td>6.000000</td>\n",
       "      <td>1.000000</td>\n",
       "      <td>1.000000</td>\n",
       "    </tr>\n",
       "    <tr>\n",
       "      <th>max</th>\n",
       "      <td>110.000000</td>\n",
       "      <td>95.000000</td>\n",
       "      <td>1000000.000000</td>\n",
       "      <td>1.000000</td>\n",
       "      <td>10.000000</td>\n",
       "      <td>12.000000</td>\n",
       "      <td>5.000000</td>\n",
       "      <td>5.000000</td>\n",
       "    </tr>\n",
       "  </tbody>\n",
       "</table>\n",
       "</div>"
      ],
      "text/plain": [
       "               age       height          income    offspring  \\\n",
       "count  9514.000000  9514.000000     9514.000000  9514.000000   \n",
       "mean     32.084192    68.337398    18887.145155     0.076624   \n",
       "std       9.445488     3.905229    91428.807808     0.266008   \n",
       "min      18.000000    36.000000       -1.000000     0.000000   \n",
       "25%      25.000000    66.000000       -1.000000     0.000000   \n",
       "50%      30.000000    68.000000       -1.000000     0.000000   \n",
       "75%      36.000000    71.000000       -1.000000     0.000000   \n",
       "max     110.000000    95.000000  1000000.000000     1.000000   \n",
       "\n",
       "       last_online_year  last_online_month  number_of_fluent_languages  \\\n",
       "count       9514.000000        9514.000000                 9514.000000   \n",
       "mean           9.077255           5.864936                    1.146941   \n",
       "std            0.267009           1.627365                    0.413248   \n",
       "min            9.000000           1.000000                    1.000000   \n",
       "25%            9.000000           6.000000                    1.000000   \n",
       "50%            9.000000           6.000000                    1.000000   \n",
       "75%            9.000000           6.000000                    1.000000   \n",
       "max           10.000000          12.000000                    5.000000   \n",
       "\n",
       "       number_of_poorly_languages  \n",
       "count                 9514.000000  \n",
       "mean                     0.338974  \n",
       "std                      0.645990  \n",
       "min                      0.000000  \n",
       "25%                      0.000000  \n",
       "50%                      0.000000  \n",
       "75%                      1.000000  \n",
       "max                      5.000000  "
      ]
     },
     "execution_count": 38,
     "metadata": {},
     "output_type": "execute_result"
    }
   ],
   "source": [
    "df.describe()"
   ]
  },
  {
   "cell_type": "code",
   "execution_count": 39,
   "metadata": {},
   "outputs": [
    {
     "data": {
      "text/plain": [
       "<AxesSubplot:>"
      ]
     },
     "execution_count": 39,
     "metadata": {},
     "output_type": "execute_result"
    },
    {
     "data": {
      "image/png": "[encoded data removed]",
      "text/plain": [
       "<Figure size 432x288 with 2 Axes>"
      ]
     },
     "metadata": {
      "needs_background": "light"
     },
     "output_type": "display_data"
    }
   ],
   "source": [
    "sns.heatmap(df.corr(),annot=True)"
   ]
  },
  {
   "cell_type": "markdown",
   "metadata": {},
   "source": [
    "1 - Flört profiliniz yaşınızı tahmin edebilir mi? "
   ]
  },
  {
   "cell_type": "code",
   "execution_count": 40,
   "metadata": {},
   "outputs": [],
   "source": [
    "df_reg=pd.get_dummies(df,drop_first=True)"
   ]
  },
  {
   "cell_type": "code",
   "execution_count": 41,
   "metadata": {},
   "outputs": [
    {
     "data": {
      "text/plain": [
       "(9514, 6919)"
      ]
     },
     "execution_count": 41,
     "metadata": {},
     "output_type": "execute_result"
    }
   ],
   "source": [
    "df_reg.shape"
   ]
  },
  {
   "cell_type": "code",
   "execution_count": 42,
   "metadata": {},
   "outputs": [],
   "source": [
    "x,y=df_reg.drop(\"age\",axis=1),df[[\"age\"]]"
   ]
  },
  {
   "cell_type": "code",
   "execution_count": 43,
   "metadata": {},
   "outputs": [],
   "source": [
    "def regression_funct(x,y):\n",
    "    from sklearn.linear_model import LinearRegression\n",
    "    from sklearn.linear_model import Ridge,Lasso\n",
    "    from sklearn.linear_model import ElasticNet\n",
    "    from sklearn.tree import ExtraTreeRegressor\n",
    "    from sklearn.ensemble import GradientBoostingRegressor\n",
    "    from sklearn.neighbors import KNeighborsRegressor\n",
    "    \n",
    "    from sklearn.model_selection import train_test_split\n",
    "\n",
    "    from sklearn.metrics import mean_squared_error,r2_score,mean_absolute_error\n",
    "    \n",
    "    \n",
    "    x_train,x_test,y_train,y_test=train_test_split(x,y,test_size=0.2,random_state=42)\n",
    "\n",
    "    L=LinearRegression()\n",
    "    R=Ridge()\n",
    "    Lass=Lasso()\n",
    "    E=ElasticNet()\n",
    "    ExTree=ExtraTreeRegressor()\n",
    "    GBR=GradientBoostingRegressor()\n",
    "    KN=KNeighborsRegressor()\n",
    "    \n",
    "    algos=[L,R,Lass,E,ExTree,GBR,KN]\n",
    "    algo_names=['LinearRegression','Ridge','Lasso','ElasticNet','ExtraTreeRegressor','GradientBoostingRegressor','KNeighborsRegressor']\n",
    "    r_squared=[]\n",
    "    rmse=[]\n",
    "    mae=[]\n",
    "    \n",
    "    result=pd.DataFrame(columns=['R_Squared','RMSE','MAE'],index=algo_names)\n",
    "    \n",
    "    for item in algos:\n",
    "        item.fit(x_train,y_train)\n",
    "        item.predict(x_test)\n",
    "        r_squared.append(r2_score(y_test,item.predict(x_test)))\n",
    "        rmse.append((mean_squared_error(y_test,item.predict(x_test)))**.5)\n",
    "        mae.append(mean_absolute_error(y_test,item.predict(x_test)))\n",
    "        \n",
    "    result.R_Squared=r_squared\n",
    "    result.RMSE=rmse\n",
    "    result.MAE=mae\n",
    "        \n",
    "    return result.sort_values('R_Squared',ascending=False)"
   ]
  },
  {
   "cell_type": "code",
   "execution_count": 44,
   "metadata": {},
   "outputs": [
    {
     "data": {
      "text/html": [
       "<div>\n",
       "<style scoped>\n",
       "    .dataframe tbody tr th:only-of-type {\n",
       "        vertical-align: middle;\n",
       "    }\n",
       "\n",
       "    .dataframe tbody tr th {\n",
       "        vertical-align: top;\n",
       "    }\n",
       "\n",
       "    .dataframe thead th {\n",
       "        text-align: right;\n",
       "    }\n",
       "</style>\n",
       "<table border=\"1\" class=\"dataframe\">\n",
       "  <thead>\n",
       "    <tr style=\"text-align: right;\">\n",
       "      <th></th>\n",
       "      <th>R_Squared</th>\n",
       "      <th>RMSE</th>\n",
       "      <th>MAE</th>\n",
       "    </tr>\n",
       "  </thead>\n",
       "  <tbody>\n",
       "    <tr>\n",
       "      <th>GradientBoostingRegressor</th>\n",
       "      <td>0.853268</td>\n",
       "      <td>3.651808</td>\n",
       "      <td>2.974204</td>\n",
       "    </tr>\n",
       "    <tr>\n",
       "      <th>Ridge</th>\n",
       "      <td>0.837541</td>\n",
       "      <td>3.842541</td>\n",
       "      <td>3.093045</td>\n",
       "    </tr>\n",
       "    <tr>\n",
       "      <th>LinearRegression</th>\n",
       "      <td>0.804106</td>\n",
       "      <td>4.219453</td>\n",
       "      <td>3.359626</td>\n",
       "    </tr>\n",
       "    <tr>\n",
       "      <th>ExtraTreeRegressor</th>\n",
       "      <td>0.728703</td>\n",
       "      <td>4.965567</td>\n",
       "      <td>3.856017</td>\n",
       "    </tr>\n",
       "    <tr>\n",
       "      <th>Lasso</th>\n",
       "      <td>0.572190</td>\n",
       "      <td>6.235505</td>\n",
       "      <td>4.213471</td>\n",
       "    </tr>\n",
       "    <tr>\n",
       "      <th>KNeighborsRegressor</th>\n",
       "      <td>0.432322</td>\n",
       "      <td>7.182853</td>\n",
       "      <td>4.793799</td>\n",
       "    </tr>\n",
       "    <tr>\n",
       "      <th>ElasticNet</th>\n",
       "      <td>0.308607</td>\n",
       "      <td>7.926994</td>\n",
       "      <td>5.422564</td>\n",
       "    </tr>\n",
       "  </tbody>\n",
       "</table>\n",
       "</div>"
      ],
      "text/plain": [
       "                           R_Squared      RMSE       MAE\n",
       "GradientBoostingRegressor   0.853268  3.651808  2.974204\n",
       "Ridge                       0.837541  3.842541  3.093045\n",
       "LinearRegression            0.804106  4.219453  3.359626\n",
       "ExtraTreeRegressor          0.728703  4.965567  3.856017\n",
       "Lasso                       0.572190  6.235505  4.213471\n",
       "KNeighborsRegressor         0.432322  7.182853  4.793799\n",
       "ElasticNet                  0.308607  7.926994  5.422564"
      ]
     },
     "execution_count": 44,
     "metadata": {},
     "output_type": "execute_result"
    }
   ],
   "source": [
    "regression_funct(x,y)"
   ]
  },
  {
   "cell_type": "code",
   "execution_count": 45,
   "metadata": {},
   "outputs": [],
   "source": [
    "## Deep Learning Uygulanırsa?"
   ]
  },
  {
   "cell_type": "code",
   "execution_count": 46,
   "metadata": {},
   "outputs": [],
   "source": [
    "from tensorflow.keras.models import Sequential\n",
    "from tensorflow.keras.layers import Dense, Activation\n",
    "from tensorflow.keras.optimizers import Adam\n",
    "from sklearn.model_selection import train_test_split\n",
    "from sklearn.metrics import  r2_score, mean_squared_error, mean_absolute_error\n",
    "from sklearn.preprocessing import MinMaxScaler\n",
    "scaler=MinMaxScaler()"
   ]
  },
  {
   "cell_type": "code",
   "execution_count": 47,
   "metadata": {},
   "outputs": [],
   "source": [
    "x=scaler.fit_transform(x)"
   ]
  },
  {
   "cell_type": "code",
   "execution_count": 48,
   "metadata": {},
   "outputs": [
    {
     "data": {
      "text/html": [
       "<div>\n",
       "<style scoped>\n",
       "    .dataframe tbody tr th:only-of-type {\n",
       "        vertical-align: middle;\n",
       "    }\n",
       "\n",
       "    .dataframe tbody tr th {\n",
       "        vertical-align: top;\n",
       "    }\n",
       "\n",
       "    .dataframe thead th {\n",
       "        text-align: right;\n",
       "    }\n",
       "</style>\n",
       "<table border=\"1\" class=\"dataframe\">\n",
       "  <thead>\n",
       "    <tr style=\"text-align: right;\">\n",
       "      <th></th>\n",
       "      <th>0</th>\n",
       "      <th>1</th>\n",
       "      <th>2</th>\n",
       "      <th>3</th>\n",
       "      <th>4</th>\n",
       "      <th>5</th>\n",
       "      <th>6</th>\n",
       "      <th>7</th>\n",
       "      <th>8</th>\n",
       "      <th>9</th>\n",
       "      <th>10</th>\n",
       "      <th>11</th>\n",
       "      <th>12</th>\n",
       "      <th>13</th>\n",
       "      <th>14</th>\n",
       "      <th>15</th>\n",
       "      <th>16</th>\n",
       "      <th>17</th>\n",
       "      <th>18</th>\n",
       "      <th>19</th>\n",
       "      <th>20</th>\n",
       "      <th>21</th>\n",
       "      <th>22</th>\n",
       "      <th>23</th>\n",
       "      <th>24</th>\n",
       "      <th>25</th>\n",
       "      <th>26</th>\n",
       "      <th>27</th>\n",
       "      <th>28</th>\n",
       "      <th>29</th>\n",
       "      <th>30</th>\n",
       "      <th>31</th>\n",
       "      <th>32</th>\n",
       "      <th>33</th>\n",
       "      <th>34</th>\n",
       "      <th>35</th>\n",
       "      <th>36</th>\n",
       "      <th>37</th>\n",
       "      <th>38</th>\n",
       "      <th>39</th>\n",
       "      <th>40</th>\n",
       "      <th>41</th>\n",
       "      <th>42</th>\n",
       "      <th>43</th>\n",
       "      <th>44</th>\n",
       "      <th>45</th>\n",
       "      <th>46</th>\n",
       "      <th>47</th>\n",
       "      <th>48</th>\n",
       "      <th>49</th>\n",
       "      <th>...</th>\n",
       "      <th>6868</th>\n",
       "      <th>6869</th>\n",
       "      <th>6870</th>\n",
       "      <th>6871</th>\n",
       "      <th>6872</th>\n",
       "      <th>6873</th>\n",
       "      <th>6874</th>\n",
       "      <th>6875</th>\n",
       "      <th>6876</th>\n",
       "      <th>6877</th>\n",
       "      <th>6878</th>\n",
       "      <th>6879</th>\n",
       "      <th>6880</th>\n",
       "      <th>6881</th>\n",
       "      <th>6882</th>\n",
       "      <th>6883</th>\n",
       "      <th>6884</th>\n",
       "      <th>6885</th>\n",
       "      <th>6886</th>\n",
       "      <th>6887</th>\n",
       "      <th>6888</th>\n",
       "      <th>6889</th>\n",
       "      <th>6890</th>\n",
       "      <th>6891</th>\n",
       "      <th>6892</th>\n",
       "      <th>6893</th>\n",
       "      <th>6894</th>\n",
       "      <th>6895</th>\n",
       "      <th>6896</th>\n",
       "      <th>6897</th>\n",
       "      <th>6898</th>\n",
       "      <th>6899</th>\n",
       "      <th>6900</th>\n",
       "      <th>6901</th>\n",
       "      <th>6902</th>\n",
       "      <th>6903</th>\n",
       "      <th>6904</th>\n",
       "      <th>6905</th>\n",
       "      <th>6906</th>\n",
       "      <th>6907</th>\n",
       "      <th>6908</th>\n",
       "      <th>6909</th>\n",
       "      <th>6910</th>\n",
       "      <th>6911</th>\n",
       "      <th>6912</th>\n",
       "      <th>6913</th>\n",
       "      <th>6914</th>\n",
       "      <th>6915</th>\n",
       "      <th>6916</th>\n",
       "      <th>6917</th>\n",
       "    </tr>\n",
       "  </thead>\n",
       "  <tbody>\n",
       "    <tr>\n",
       "      <th>0</th>\n",
       "      <td>0.661017</td>\n",
       "      <td>0.000000</td>\n",
       "      <td>0.0</td>\n",
       "      <td>0.0</td>\n",
       "      <td>0.454545</td>\n",
       "      <td>0.0</td>\n",
       "      <td>0.0</td>\n",
       "      <td>1.0</td>\n",
       "      <td>0.0</td>\n",
       "      <td>0.0</td>\n",
       "      <td>0.0</td>\n",
       "      <td>0.0</td>\n",
       "      <td>0.0</td>\n",
       "      <td>0.0</td>\n",
       "      <td>0.0</td>\n",
       "      <td>0.0</td>\n",
       "      <td>0.0</td>\n",
       "      <td>1.0</td>\n",
       "      <td>0.0</td>\n",
       "      <td>0.0</td>\n",
       "      <td>0.0</td>\n",
       "      <td>0.0</td>\n",
       "      <td>1.0</td>\n",
       "      <td>0.0</td>\n",
       "      <td>0.0</td>\n",
       "      <td>0.0</td>\n",
       "      <td>0.0</td>\n",
       "      <td>0.0</td>\n",
       "      <td>0.0</td>\n",
       "      <td>0.0</td>\n",
       "      <td>0.0</td>\n",
       "      <td>0.0</td>\n",
       "      <td>0.0</td>\n",
       "      <td>0.0</td>\n",
       "      <td>0.0</td>\n",
       "      <td>0.0</td>\n",
       "      <td>0.0</td>\n",
       "      <td>0.0</td>\n",
       "      <td>0.0</td>\n",
       "      <td>0.0</td>\n",
       "      <td>0.0</td>\n",
       "      <td>0.0</td>\n",
       "      <td>0.0</td>\n",
       "      <td>0.0</td>\n",
       "      <td>0.0</td>\n",
       "      <td>0.0</td>\n",
       "      <td>0.0</td>\n",
       "      <td>0.0</td>\n",
       "      <td>0.0</td>\n",
       "      <td>0.0</td>\n",
       "      <td>...</td>\n",
       "      <td>0.0</td>\n",
       "      <td>0.0</td>\n",
       "      <td>0.0</td>\n",
       "      <td>0.0</td>\n",
       "      <td>0.0</td>\n",
       "      <td>0.0</td>\n",
       "      <td>1.0</td>\n",
       "      <td>0.0</td>\n",
       "      <td>0.0</td>\n",
       "      <td>0.0</td>\n",
       "      <td>0.0</td>\n",
       "      <td>0.0</td>\n",
       "      <td>0.0</td>\n",
       "      <td>0.0</td>\n",
       "      <td>0.0</td>\n",
       "      <td>0.0</td>\n",
       "      <td>0.0</td>\n",
       "      <td>0.0</td>\n",
       "      <td>0.0</td>\n",
       "      <td>0.0</td>\n",
       "      <td>1.0</td>\n",
       "      <td>0.0</td>\n",
       "      <td>0.0</td>\n",
       "      <td>0.0</td>\n",
       "      <td>0.0</td>\n",
       "      <td>0.0</td>\n",
       "      <td>0.0</td>\n",
       "      <td>0.0</td>\n",
       "      <td>0.0</td>\n",
       "      <td>1.0</td>\n",
       "      <td>0.0</td>\n",
       "      <td>0.0</td>\n",
       "      <td>0.0</td>\n",
       "      <td>1.0</td>\n",
       "      <td>0.0</td>\n",
       "      <td>0.0</td>\n",
       "      <td>0.0</td>\n",
       "      <td>0.0</td>\n",
       "      <td>0.0</td>\n",
       "      <td>0.0</td>\n",
       "      <td>0.0</td>\n",
       "      <td>1.0</td>\n",
       "      <td>0.0</td>\n",
       "      <td>0.0</td>\n",
       "      <td>0.0</td>\n",
       "      <td>0.0</td>\n",
       "      <td>0.0</td>\n",
       "      <td>1.0</td>\n",
       "      <td>0.0</td>\n",
       "      <td>1.0</td>\n",
       "    </tr>\n",
       "    <tr>\n",
       "      <th>1</th>\n",
       "      <td>0.576271</td>\n",
       "      <td>0.080001</td>\n",
       "      <td>0.0</td>\n",
       "      <td>0.0</td>\n",
       "      <td>0.454545</td>\n",
       "      <td>0.0</td>\n",
       "      <td>0.4</td>\n",
       "      <td>0.0</td>\n",
       "      <td>1.0</td>\n",
       "      <td>0.0</td>\n",
       "      <td>0.0</td>\n",
       "      <td>1.0</td>\n",
       "      <td>0.0</td>\n",
       "      <td>0.0</td>\n",
       "      <td>0.0</td>\n",
       "      <td>1.0</td>\n",
       "      <td>0.0</td>\n",
       "      <td>0.0</td>\n",
       "      <td>0.0</td>\n",
       "      <td>0.0</td>\n",
       "      <td>1.0</td>\n",
       "      <td>0.0</td>\n",
       "      <td>1.0</td>\n",
       "      <td>0.0</td>\n",
       "      <td>0.0</td>\n",
       "      <td>0.0</td>\n",
       "      <td>0.0</td>\n",
       "      <td>0.0</td>\n",
       "      <td>0.0</td>\n",
       "      <td>0.0</td>\n",
       "      <td>0.0</td>\n",
       "      <td>0.0</td>\n",
       "      <td>0.0</td>\n",
       "      <td>0.0</td>\n",
       "      <td>0.0</td>\n",
       "      <td>0.0</td>\n",
       "      <td>0.0</td>\n",
       "      <td>0.0</td>\n",
       "      <td>0.0</td>\n",
       "      <td>0.0</td>\n",
       "      <td>0.0</td>\n",
       "      <td>0.0</td>\n",
       "      <td>0.0</td>\n",
       "      <td>0.0</td>\n",
       "      <td>0.0</td>\n",
       "      <td>0.0</td>\n",
       "      <td>0.0</td>\n",
       "      <td>0.0</td>\n",
       "      <td>0.0</td>\n",
       "      <td>0.0</td>\n",
       "      <td>...</td>\n",
       "      <td>0.0</td>\n",
       "      <td>0.0</td>\n",
       "      <td>0.0</td>\n",
       "      <td>0.0</td>\n",
       "      <td>0.0</td>\n",
       "      <td>0.0</td>\n",
       "      <td>1.0</td>\n",
       "      <td>0.0</td>\n",
       "      <td>0.0</td>\n",
       "      <td>0.0</td>\n",
       "      <td>0.0</td>\n",
       "      <td>0.0</td>\n",
       "      <td>0.0</td>\n",
       "      <td>0.0</td>\n",
       "      <td>0.0</td>\n",
       "      <td>0.0</td>\n",
       "      <td>0.0</td>\n",
       "      <td>0.0</td>\n",
       "      <td>0.0</td>\n",
       "      <td>0.0</td>\n",
       "      <td>1.0</td>\n",
       "      <td>0.0</td>\n",
       "      <td>0.0</td>\n",
       "      <td>0.0</td>\n",
       "      <td>0.0</td>\n",
       "      <td>0.0</td>\n",
       "      <td>0.0</td>\n",
       "      <td>0.0</td>\n",
       "      <td>0.0</td>\n",
       "      <td>1.0</td>\n",
       "      <td>0.0</td>\n",
       "      <td>1.0</td>\n",
       "      <td>0.0</td>\n",
       "      <td>0.0</td>\n",
       "      <td>0.0</td>\n",
       "      <td>0.0</td>\n",
       "      <td>0.0</td>\n",
       "      <td>0.0</td>\n",
       "      <td>0.0</td>\n",
       "      <td>0.0</td>\n",
       "      <td>0.0</td>\n",
       "      <td>0.0</td>\n",
       "      <td>0.0</td>\n",
       "      <td>0.0</td>\n",
       "      <td>0.0</td>\n",
       "      <td>0.0</td>\n",
       "      <td>0.0</td>\n",
       "      <td>1.0</td>\n",
       "      <td>1.0</td>\n",
       "      <td>0.0</td>\n",
       "    </tr>\n",
       "    <tr>\n",
       "      <th>2</th>\n",
       "      <td>0.542373</td>\n",
       "      <td>0.000000</td>\n",
       "      <td>0.0</td>\n",
       "      <td>0.0</td>\n",
       "      <td>0.454545</td>\n",
       "      <td>0.0</td>\n",
       "      <td>0.0</td>\n",
       "      <td>0.0</td>\n",
       "      <td>1.0</td>\n",
       "      <td>0.0</td>\n",
       "      <td>0.0</td>\n",
       "      <td>0.0</td>\n",
       "      <td>0.0</td>\n",
       "      <td>0.0</td>\n",
       "      <td>0.0</td>\n",
       "      <td>0.0</td>\n",
       "      <td>0.0</td>\n",
       "      <td>1.0</td>\n",
       "      <td>0.0</td>\n",
       "      <td>0.0</td>\n",
       "      <td>0.0</td>\n",
       "      <td>1.0</td>\n",
       "      <td>0.0</td>\n",
       "      <td>0.0</td>\n",
       "      <td>0.0</td>\n",
       "      <td>0.0</td>\n",
       "      <td>0.0</td>\n",
       "      <td>0.0</td>\n",
       "      <td>0.0</td>\n",
       "      <td>0.0</td>\n",
       "      <td>0.0</td>\n",
       "      <td>0.0</td>\n",
       "      <td>0.0</td>\n",
       "      <td>0.0</td>\n",
       "      <td>0.0</td>\n",
       "      <td>0.0</td>\n",
       "      <td>0.0</td>\n",
       "      <td>0.0</td>\n",
       "      <td>0.0</td>\n",
       "      <td>0.0</td>\n",
       "      <td>0.0</td>\n",
       "      <td>0.0</td>\n",
       "      <td>0.0</td>\n",
       "      <td>0.0</td>\n",
       "      <td>0.0</td>\n",
       "      <td>0.0</td>\n",
       "      <td>0.0</td>\n",
       "      <td>0.0</td>\n",
       "      <td>0.0</td>\n",
       "      <td>0.0</td>\n",
       "      <td>...</td>\n",
       "      <td>0.0</td>\n",
       "      <td>0.0</td>\n",
       "      <td>0.0</td>\n",
       "      <td>0.0</td>\n",
       "      <td>0.0</td>\n",
       "      <td>0.0</td>\n",
       "      <td>1.0</td>\n",
       "      <td>0.0</td>\n",
       "      <td>0.0</td>\n",
       "      <td>0.0</td>\n",
       "      <td>0.0</td>\n",
       "      <td>1.0</td>\n",
       "      <td>0.0</td>\n",
       "      <td>0.0</td>\n",
       "      <td>0.0</td>\n",
       "      <td>0.0</td>\n",
       "      <td>0.0</td>\n",
       "      <td>0.0</td>\n",
       "      <td>0.0</td>\n",
       "      <td>0.0</td>\n",
       "      <td>0.0</td>\n",
       "      <td>0.0</td>\n",
       "      <td>0.0</td>\n",
       "      <td>0.0</td>\n",
       "      <td>0.0</td>\n",
       "      <td>0.0</td>\n",
       "      <td>0.0</td>\n",
       "      <td>0.0</td>\n",
       "      <td>0.0</td>\n",
       "      <td>1.0</td>\n",
       "      <td>0.0</td>\n",
       "      <td>0.0</td>\n",
       "      <td>0.0</td>\n",
       "      <td>0.0</td>\n",
       "      <td>0.0</td>\n",
       "      <td>0.0</td>\n",
       "      <td>1.0</td>\n",
       "      <td>0.0</td>\n",
       "      <td>0.0</td>\n",
       "      <td>0.0</td>\n",
       "      <td>0.0</td>\n",
       "      <td>0.0</td>\n",
       "      <td>0.0</td>\n",
       "      <td>0.0</td>\n",
       "      <td>0.0</td>\n",
       "      <td>0.0</td>\n",
       "      <td>0.0</td>\n",
       "      <td>0.0</td>\n",
       "      <td>1.0</td>\n",
       "      <td>0.0</td>\n",
       "    </tr>\n",
       "    <tr>\n",
       "      <th>3</th>\n",
       "      <td>0.593220</td>\n",
       "      <td>0.020001</td>\n",
       "      <td>0.0</td>\n",
       "      <td>0.0</td>\n",
       "      <td>0.454545</td>\n",
       "      <td>0.0</td>\n",
       "      <td>0.2</td>\n",
       "      <td>0.0</td>\n",
       "      <td>1.0</td>\n",
       "      <td>0.0</td>\n",
       "      <td>0.0</td>\n",
       "      <td>0.0</td>\n",
       "      <td>0.0</td>\n",
       "      <td>1.0</td>\n",
       "      <td>0.0</td>\n",
       "      <td>0.0</td>\n",
       "      <td>0.0</td>\n",
       "      <td>1.0</td>\n",
       "      <td>0.0</td>\n",
       "      <td>0.0</td>\n",
       "      <td>0.0</td>\n",
       "      <td>0.0</td>\n",
       "      <td>1.0</td>\n",
       "      <td>0.0</td>\n",
       "      <td>0.0</td>\n",
       "      <td>0.0</td>\n",
       "      <td>0.0</td>\n",
       "      <td>0.0</td>\n",
       "      <td>0.0</td>\n",
       "      <td>0.0</td>\n",
       "      <td>0.0</td>\n",
       "      <td>0.0</td>\n",
       "      <td>0.0</td>\n",
       "      <td>0.0</td>\n",
       "      <td>0.0</td>\n",
       "      <td>0.0</td>\n",
       "      <td>0.0</td>\n",
       "      <td>0.0</td>\n",
       "      <td>0.0</td>\n",
       "      <td>0.0</td>\n",
       "      <td>0.0</td>\n",
       "      <td>0.0</td>\n",
       "      <td>0.0</td>\n",
       "      <td>0.0</td>\n",
       "      <td>0.0</td>\n",
       "      <td>0.0</td>\n",
       "      <td>0.0</td>\n",
       "      <td>0.0</td>\n",
       "      <td>0.0</td>\n",
       "      <td>0.0</td>\n",
       "      <td>...</td>\n",
       "      <td>0.0</td>\n",
       "      <td>0.0</td>\n",
       "      <td>0.0</td>\n",
       "      <td>0.0</td>\n",
       "      <td>0.0</td>\n",
       "      <td>0.0</td>\n",
       "      <td>1.0</td>\n",
       "      <td>0.0</td>\n",
       "      <td>0.0</td>\n",
       "      <td>0.0</td>\n",
       "      <td>0.0</td>\n",
       "      <td>0.0</td>\n",
       "      <td>0.0</td>\n",
       "      <td>0.0</td>\n",
       "      <td>0.0</td>\n",
       "      <td>0.0</td>\n",
       "      <td>1.0</td>\n",
       "      <td>0.0</td>\n",
       "      <td>0.0</td>\n",
       "      <td>0.0</td>\n",
       "      <td>0.0</td>\n",
       "      <td>0.0</td>\n",
       "      <td>0.0</td>\n",
       "      <td>0.0</td>\n",
       "      <td>0.0</td>\n",
       "      <td>0.0</td>\n",
       "      <td>0.0</td>\n",
       "      <td>0.0</td>\n",
       "      <td>0.0</td>\n",
       "      <td>1.0</td>\n",
       "      <td>0.0</td>\n",
       "      <td>0.0</td>\n",
       "      <td>0.0</td>\n",
       "      <td>0.0</td>\n",
       "      <td>0.0</td>\n",
       "      <td>0.0</td>\n",
       "      <td>1.0</td>\n",
       "      <td>0.0</td>\n",
       "      <td>0.0</td>\n",
       "      <td>0.0</td>\n",
       "      <td>0.0</td>\n",
       "      <td>0.0</td>\n",
       "      <td>0.0</td>\n",
       "      <td>0.0</td>\n",
       "      <td>0.0</td>\n",
       "      <td>0.0</td>\n",
       "      <td>0.0</td>\n",
       "      <td>1.0</td>\n",
       "      <td>0.0</td>\n",
       "      <td>1.0</td>\n",
       "    </tr>\n",
       "    <tr>\n",
       "      <th>4</th>\n",
       "      <td>0.508475</td>\n",
       "      <td>0.000000</td>\n",
       "      <td>0.0</td>\n",
       "      <td>0.0</td>\n",
       "      <td>0.454545</td>\n",
       "      <td>0.0</td>\n",
       "      <td>0.0</td>\n",
       "      <td>0.0</td>\n",
       "      <td>1.0</td>\n",
       "      <td>0.0</td>\n",
       "      <td>0.0</td>\n",
       "      <td>0.0</td>\n",
       "      <td>0.0</td>\n",
       "      <td>0.0</td>\n",
       "      <td>0.0</td>\n",
       "      <td>0.0</td>\n",
       "      <td>0.0</td>\n",
       "      <td>1.0</td>\n",
       "      <td>0.0</td>\n",
       "      <td>0.0</td>\n",
       "      <td>0.0</td>\n",
       "      <td>1.0</td>\n",
       "      <td>0.0</td>\n",
       "      <td>0.0</td>\n",
       "      <td>0.0</td>\n",
       "      <td>0.0</td>\n",
       "      <td>0.0</td>\n",
       "      <td>0.0</td>\n",
       "      <td>0.0</td>\n",
       "      <td>0.0</td>\n",
       "      <td>0.0</td>\n",
       "      <td>0.0</td>\n",
       "      <td>0.0</td>\n",
       "      <td>0.0</td>\n",
       "      <td>0.0</td>\n",
       "      <td>0.0</td>\n",
       "      <td>0.0</td>\n",
       "      <td>0.0</td>\n",
       "      <td>0.0</td>\n",
       "      <td>0.0</td>\n",
       "      <td>0.0</td>\n",
       "      <td>0.0</td>\n",
       "      <td>0.0</td>\n",
       "      <td>0.0</td>\n",
       "      <td>0.0</td>\n",
       "      <td>0.0</td>\n",
       "      <td>0.0</td>\n",
       "      <td>0.0</td>\n",
       "      <td>0.0</td>\n",
       "      <td>0.0</td>\n",
       "      <td>...</td>\n",
       "      <td>0.0</td>\n",
       "      <td>0.0</td>\n",
       "      <td>0.0</td>\n",
       "      <td>0.0</td>\n",
       "      <td>0.0</td>\n",
       "      <td>0.0</td>\n",
       "      <td>1.0</td>\n",
       "      <td>0.0</td>\n",
       "      <td>0.0</td>\n",
       "      <td>0.0</td>\n",
       "      <td>0.0</td>\n",
       "      <td>0.0</td>\n",
       "      <td>0.0</td>\n",
       "      <td>0.0</td>\n",
       "      <td>0.0</td>\n",
       "      <td>0.0</td>\n",
       "      <td>0.0</td>\n",
       "      <td>0.0</td>\n",
       "      <td>0.0</td>\n",
       "      <td>0.0</td>\n",
       "      <td>1.0</td>\n",
       "      <td>0.0</td>\n",
       "      <td>0.0</td>\n",
       "      <td>0.0</td>\n",
       "      <td>0.0</td>\n",
       "      <td>0.0</td>\n",
       "      <td>0.0</td>\n",
       "      <td>0.0</td>\n",
       "      <td>0.0</td>\n",
       "      <td>1.0</td>\n",
       "      <td>0.0</td>\n",
       "      <td>0.0</td>\n",
       "      <td>0.0</td>\n",
       "      <td>0.0</td>\n",
       "      <td>0.0</td>\n",
       "      <td>0.0</td>\n",
       "      <td>0.0</td>\n",
       "      <td>0.0</td>\n",
       "      <td>0.0</td>\n",
       "      <td>0.0</td>\n",
       "      <td>0.0</td>\n",
       "      <td>0.0</td>\n",
       "      <td>0.0</td>\n",
       "      <td>0.0</td>\n",
       "      <td>0.0</td>\n",
       "      <td>0.0</td>\n",
       "      <td>0.0</td>\n",
       "      <td>1.0</td>\n",
       "      <td>0.0</td>\n",
       "      <td>1.0</td>\n",
       "    </tr>\n",
       "  </tbody>\n",
       "</table>\n",
       "<p>5 rows × 6918 columns</p>\n",
       "</div>"
      ],
      "text/plain": [
       "       0         1     2     3         4     5     6     7     8     9     \\\n",
       "0  0.661017  0.000000   0.0   0.0  0.454545   0.0   0.0   1.0   0.0   0.0   \n",
       "1  0.576271  0.080001   0.0   0.0  0.454545   0.0   0.4   0.0   1.0   0.0   \n",
       "2  0.542373  0.000000   0.0   0.0  0.454545   0.0   0.0   0.0   1.0   0.0   \n",
       "3  0.593220  0.020001   0.0   0.0  0.454545   0.0   0.2   0.0   1.0   0.0   \n",
       "4  0.508475  0.000000   0.0   0.0  0.454545   0.0   0.0   0.0   1.0   0.0   \n",
       "\n",
       "   10    11    12    13    14    15    16    17    18    19    20    21    \\\n",
       "0   0.0   0.0   0.0   0.0   0.0   0.0   0.0   1.0   0.0   0.0   0.0   0.0   \n",
       "1   0.0   1.0   0.0   0.0   0.0   1.0   0.0   0.0   0.0   0.0   1.0   0.0   \n",
       "2   0.0   0.0   0.0   0.0   0.0   0.0   0.0   1.0   0.0   0.0   0.0   1.0   \n",
       "3   0.0   0.0   0.0   1.0   0.0   0.0   0.0   1.0   0.0   0.0   0.0   0.0   \n",
       "4   0.0   0.0   0.0   0.0   0.0   0.0   0.0   1.0   0.0   0.0   0.0   1.0   \n",
       "\n",
       "   22    23    24    25    26    27    28    29    30    31    32    33    \\\n",
       "0   1.0   0.0   0.0   0.0   0.0   0.0   0.0   0.0   0.0   0.0   0.0   0.0   \n",
       "1   1.0   0.0   0.0   0.0   0.0   0.0   0.0   0.0   0.0   0.0   0.0   0.0   \n",
       "2   0.0   0.0   0.0   0.0   0.0   0.0   0.0   0.0   0.0   0.0   0.0   0.0   \n",
       "3   1.0   0.0   0.0   0.0   0.0   0.0   0.0   0.0   0.0   0.0   0.0   0.0   \n",
       "4   0.0   0.0   0.0   0.0   0.0   0.0   0.0   0.0   0.0   0.0   0.0   0.0   \n",
       "\n",
       "   34    35    36    37    38    39    40    41    42    43    44    45    \\\n",
       "0   0.0   0.0   0.0   0.0   0.0   0.0   0.0   0.0   0.0   0.0   0.0   0.0   \n",
       "1   0.0   0.0   0.0   0.0   0.0   0.0   0.0   0.0   0.0   0.0   0.0   0.0   \n",
       "2   0.0   0.0   0.0   0.0   0.0   0.0   0.0   0.0   0.0   0.0   0.0   0.0   \n",
       "3   0.0   0.0   0.0   0.0   0.0   0.0   0.0   0.0   0.0   0.0   0.0   0.0   \n",
       "4   0.0   0.0   0.0   0.0   0.0   0.0   0.0   0.0   0.0   0.0   0.0   0.0   \n",
       "\n",
       "   46    47    48    49    ...  6868  6869  6870  6871  6872  6873  6874  \\\n",
       "0   0.0   0.0   0.0   0.0  ...   0.0   0.0   0.0   0.0   0.0   0.0   1.0   \n",
       "1   0.0   0.0   0.0   0.0  ...   0.0   0.0   0.0   0.0   0.0   0.0   1.0   \n",
       "2   0.0   0.0   0.0   0.0  ...   0.0   0.0   0.0   0.0   0.0   0.0   1.0   \n",
       "3   0.0   0.0   0.0   0.0  ...   0.0   0.0   0.0   0.0   0.0   0.0   1.0   \n",
       "4   0.0   0.0   0.0   0.0  ...   0.0   0.0   0.0   0.0   0.0   0.0   1.0   \n",
       "\n",
       "   6875  6876  6877  6878  6879  6880  6881  6882  6883  6884  6885  6886  \\\n",
       "0   0.0   0.0   0.0   0.0   0.0   0.0   0.0   0.0   0.0   0.0   0.0   0.0   \n",
       "1   0.0   0.0   0.0   0.0   0.0   0.0   0.0   0.0   0.0   0.0   0.0   0.0   \n",
       "2   0.0   0.0   0.0   0.0   1.0   0.0   0.0   0.0   0.0   0.0   0.0   0.0   \n",
       "3   0.0   0.0   0.0   0.0   0.0   0.0   0.0   0.0   0.0   1.0   0.0   0.0   \n",
       "4   0.0   0.0   0.0   0.0   0.0   0.0   0.0   0.0   0.0   0.0   0.0   0.0   \n",
       "\n",
       "   6887  6888  6889  6890  6891  6892  6893  6894  6895  6896  6897  6898  \\\n",
       "0   0.0   1.0   0.0   0.0   0.0   0.0   0.0   0.0   0.0   0.0   1.0   0.0   \n",
       "1   0.0   1.0   0.0   0.0   0.0   0.0   0.0   0.0   0.0   0.0   1.0   0.0   \n",
       "2   0.0   0.0   0.0   0.0   0.0   0.0   0.0   0.0   0.0   0.0   1.0   0.0   \n",
       "3   0.0   0.0   0.0   0.0   0.0   0.0   0.0   0.0   0.0   0.0   1.0   0.0   \n",
       "4   0.0   1.0   0.0   0.0   0.0   0.0   0.0   0.0   0.0   0.0   1.0   0.0   \n",
       "\n",
       "   6899  6900  6901  6902  6903  6904  6905  6906  6907  6908  6909  6910  \\\n",
       "0   0.0   0.0   1.0   0.0   0.0   0.0   0.0   0.0   0.0   0.0   1.0   0.0   \n",
       "1   1.0   0.0   0.0   0.0   0.0   0.0   0.0   0.0   0.0   0.0   0.0   0.0   \n",
       "2   0.0   0.0   0.0   0.0   0.0   1.0   0.0   0.0   0.0   0.0   0.0   0.0   \n",
       "3   0.0   0.0   0.0   0.0   0.0   1.0   0.0   0.0   0.0   0.0   0.0   0.0   \n",
       "4   0.0   0.0   0.0   0.0   0.0   0.0   0.0   0.0   0.0   0.0   0.0   0.0   \n",
       "\n",
       "   6911  6912  6913  6914  6915  6916  6917  \n",
       "0   0.0   0.0   0.0   0.0   1.0   0.0   1.0  \n",
       "1   0.0   0.0   0.0   0.0   1.0   1.0   0.0  \n",
       "2   0.0   0.0   0.0   0.0   0.0   1.0   0.0  \n",
       "3   0.0   0.0   0.0   0.0   1.0   0.0   1.0  \n",
       "4   0.0   0.0   0.0   0.0   1.0   0.0   1.0  \n",
       "\n",
       "[5 rows x 6918 columns]"
      ]
     },
     "execution_count": 48,
     "metadata": {},
     "output_type": "execute_result"
    }
   ],
   "source": [
    "pd.DataFrame(x).head()"
   ]
  },
  {
   "cell_type": "code",
   "execution_count": 49,
   "metadata": {},
   "outputs": [
    {
     "data": {
      "text/plain": [
       "((9514, 6918), (9514, 1))"
      ]
     },
     "execution_count": 49,
     "metadata": {},
     "output_type": "execute_result"
    }
   ],
   "source": [
    "x.shape,y.shape"
   ]
  },
  {
   "cell_type": "code",
   "execution_count": 50,
   "metadata": {},
   "outputs": [],
   "source": [
    "x_train, x_test, y_train, y_test = train_test_split(x,y, test_size=0.20, random_state=42)"
   ]
  },
  {
   "cell_type": "code",
   "execution_count": 51,
   "metadata": {},
   "outputs": [],
   "source": [
    "model=Sequential()\n",
    "model.add(Dense(800, activation='relu'))\n",
    "model.add(Dense(800, activation='relu'))\n",
    "model.add(Dense(800, activation='relu'))\n",
    "model.add(Dense(800, activation='relu'))\n",
    "model.add(Dense(800, activation='relu'))\n",
    "model.add(Dense(800, activation='relu'))\n",
    "model.add(Dense(1))\n",
    "model.compile(optimizer='Adam', loss='mse')#mse regression"
   ]
  },
  {
   "cell_type": "code",
   "execution_count": 52,
   "metadata": {
    "scrolled": true
   },
   "outputs": [
    {
     "name": "stdout",
     "output_type": "stream",
     "text": [
      "Epoch 1/100\n",
      "60/60 [==============================] - 9s 108ms/step - loss: 359.3675 - val_loss: 36.3097\n",
      "Epoch 2/100\n",
      "60/60 [==============================] - 5s 76ms/step - loss: 19.7664 - val_loss: 21.5696\n",
      "Epoch 3/100\n",
      "60/60 [==============================] - 4s 72ms/step - loss: 7.2425 - val_loss: 26.8436\n",
      "Epoch 4/100\n",
      "60/60 [==============================] - 5s 78ms/step - loss: 4.4425 - val_loss: 20.4885\n",
      "Epoch 5/100\n",
      "60/60 [==============================] - 5s 79ms/step - loss: 2.9885 - val_loss: 19.8704\n",
      "Epoch 6/100\n",
      "60/60 [==============================] - 5s 79ms/step - loss: 2.1773 - val_loss: 18.8476\n",
      "Epoch 7/100\n",
      "60/60 [==============================] - 5s 77ms/step - loss: 1.7834 - val_loss: 19.6990\n",
      "Epoch 8/100\n",
      "60/60 [==============================] - 5s 78ms/step - loss: 1.9932 - val_loss: 20.0590\n",
      "Epoch 9/100\n",
      "60/60 [==============================] - 5s 82ms/step - loss: 1.6235 - val_loss: 19.2190\n",
      "Epoch 10/100\n",
      "60/60 [==============================] - 5s 78ms/step - loss: 1.4402 - val_loss: 19.0397\n",
      "Epoch 11/100\n",
      "60/60 [==============================] - 5s 78ms/step - loss: 1.1831 - val_loss: 19.5413\n",
      "Epoch 12/100\n",
      "60/60 [==============================] - 5s 80ms/step - loss: 1.2289 - val_loss: 19.9650\n",
      "Epoch 13/100\n",
      "60/60 [==============================] - 5s 78ms/step - loss: 1.5179 - val_loss: 20.4409\n",
      "Epoch 14/100\n",
      "60/60 [==============================] - 5s 78ms/step - loss: 1.3626 - val_loss: 18.5272\n",
      "Epoch 15/100\n",
      "60/60 [==============================] - 5s 79ms/step - loss: 1.6331 - val_loss: 18.5001\n",
      "Epoch 16/100\n",
      "60/60 [==============================] - 5s 79ms/step - loss: 1.6309 - val_loss: 23.8181\n",
      "Epoch 17/100\n",
      "60/60 [==============================] - 5s 78ms/step - loss: 2.0924 - val_loss: 18.3584\n",
      "Epoch 18/100\n",
      "60/60 [==============================] - 5s 77ms/step - loss: 1.4073 - val_loss: 18.9812\n",
      "Epoch 19/100\n",
      "60/60 [==============================] - 5s 80ms/step - loss: 1.0447 - val_loss: 18.9545\n",
      "Epoch 20/100\n",
      "60/60 [==============================] - 5s 77ms/step - loss: 1.6787 - val_loss: 18.2643\n",
      "Epoch 21/100\n",
      "60/60 [==============================] - 5s 77ms/step - loss: 2.2376 - val_loss: 19.5576\n",
      "Epoch 22/100\n",
      "60/60 [==============================] - 5s 80ms/step - loss: 1.7423 - val_loss: 18.6324\n",
      "Epoch 23/100\n",
      "60/60 [==============================] - 5s 79ms/step - loss: 1.6469 - val_loss: 19.3156\n",
      "Epoch 24/100\n",
      "60/60 [==============================] - 5s 77ms/step - loss: 1.2296 - val_loss: 19.1485\n",
      "Epoch 25/100\n",
      "60/60 [==============================] - 5s 77ms/step - loss: 0.9128 - val_loss: 20.4963\n",
      "Epoch 26/100\n",
      "60/60 [==============================] - 5s 80ms/step - loss: 1.1225 - val_loss: 19.9868\n",
      "Epoch 27/100\n",
      "60/60 [==============================] - 5s 77ms/step - loss: 1.1735 - val_loss: 19.1883\n",
      "Epoch 28/100\n",
      "60/60 [==============================] - 5s 78ms/step - loss: 1.6166 - val_loss: 18.2135\n",
      "Epoch 29/100\n",
      "60/60 [==============================] - 5s 82ms/step - loss: 1.5390 - val_loss: 18.0692\n",
      "Epoch 30/100\n",
      "60/60 [==============================] - 5s 79ms/step - loss: 1.0257 - val_loss: 18.4107\n",
      "Epoch 31/100\n",
      "60/60 [==============================] - 5s 77ms/step - loss: 1.0522 - val_loss: 19.0406\n",
      "Epoch 32/100\n",
      "60/60 [==============================] - 5s 79ms/step - loss: 0.9021 - val_loss: 20.1041\n",
      "Epoch 33/100\n",
      "60/60 [==============================] - 5s 80ms/step - loss: 1.1966 - val_loss: 18.6208\n",
      "Epoch 34/100\n",
      "60/60 [==============================] - 5s 77ms/step - loss: 1.2602 - val_loss: 18.5112\n",
      "Epoch 35/100\n",
      "60/60 [==============================] - 5s 78ms/step - loss: 0.6277 - val_loss: 18.8446\n",
      "Epoch 36/100\n",
      "60/60 [==============================] - 5s 81ms/step - loss: 0.5423 - val_loss: 19.4971\n",
      "Epoch 37/100\n",
      "60/60 [==============================] - 5s 78ms/step - loss: 1.0106 - val_loss: 18.1746\n",
      "Epoch 38/100\n",
      "60/60 [==============================] - 5s 78ms/step - loss: 1.0176 - val_loss: 18.7825\n",
      "Epoch 39/100\n",
      "60/60 [==============================] - 5s 79ms/step - loss: 1.9044 - val_loss: 18.0276\n",
      "Epoch 40/100\n",
      "60/60 [==============================] - 5s 79ms/step - loss: 3.1540 - val_loss: 18.8808\n",
      "Epoch 41/100\n",
      "60/60 [==============================] - 5s 77ms/step - loss: 1.6483 - val_loss: 19.7239\n",
      "Epoch 42/100\n",
      "60/60 [==============================] - 5s 79ms/step - loss: 1.3069 - val_loss: 18.4729\n",
      "Epoch 43/100\n",
      "60/60 [==============================] - 5s 81ms/step - loss: 0.8052 - val_loss: 18.7457\n",
      "Epoch 44/100\n",
      "60/60 [==============================] - 5s 78ms/step - loss: 0.3779 - val_loss: 17.7036\n",
      "Epoch 45/100\n",
      "60/60 [==============================] - 5s 77ms/step - loss: 0.2591 - val_loss: 18.2764\n",
      "Epoch 46/100\n",
      "60/60 [==============================] - 5s 81ms/step - loss: 0.1435 - val_loss: 18.1291\n",
      "Epoch 47/100\n",
      "60/60 [==============================] - 5s 81ms/step - loss: 0.1073 - val_loss: 18.3271\n",
      "Epoch 48/100\n",
      "60/60 [==============================] - 5s 80ms/step - loss: 0.1052 - val_loss: 18.1075\n",
      "Epoch 49/100\n",
      "60/60 [==============================] - 5s 82ms/step - loss: 0.1382 - val_loss: 18.2677\n",
      "Epoch 50/100\n",
      "60/60 [==============================] - 5s 82ms/step - loss: 0.4237 - val_loss: 17.7845\n",
      "Epoch 51/100\n",
      "60/60 [==============================] - 5s 80ms/step - loss: 1.7631 - val_loss: 18.8346\n",
      "Epoch 52/100\n",
      "60/60 [==============================] - 5s 80ms/step - loss: 2.0014 - val_loss: 19.0940\n",
      "Epoch 53/100\n",
      "60/60 [==============================] - 5s 86ms/step - loss: 1.1556 - val_loss: 18.1350\n",
      "Epoch 54/100\n",
      "60/60 [==============================] - 5s 82ms/step - loss: 1.1496 - val_loss: 17.8494\n",
      "Epoch 55/100\n",
      "60/60 [==============================] - 5s 82ms/step - loss: 1.0675 - val_loss: 20.0812\n",
      "Epoch 56/100\n",
      "60/60 [==============================] - 5s 88ms/step - loss: 0.8908 - val_loss: 20.4575\n",
      "Epoch 57/100\n",
      "60/60 [==============================] - 5s 83ms/step - loss: 1.0088 - val_loss: 17.9700\n",
      "Epoch 58/100\n",
      "60/60 [==============================] - 5s 81ms/step - loss: 0.6565 - val_loss: 17.9877\n",
      "Epoch 59/100\n",
      "60/60 [==============================] - 5s 83ms/step - loss: 0.6290 - val_loss: 17.6645\n",
      "Epoch 60/100\n",
      "60/60 [==============================] - 5s 81ms/step - loss: 0.4559 - val_loss: 17.6318\n",
      "Epoch 61/100\n",
      "60/60 [==============================] - 5s 81ms/step - loss: 0.3879 - val_loss: 17.8719\n",
      "Epoch 62/100\n",
      "60/60 [==============================] - 5s 82ms/step - loss: 0.5540 - val_loss: 18.4095\n",
      "Epoch 63/100\n",
      "60/60 [==============================] - 5s 82ms/step - loss: 1.0675 - val_loss: 17.5466\n",
      "Epoch 64/100\n",
      "60/60 [==============================] - 5s 80ms/step - loss: 1.0229 - val_loss: 18.7257\n",
      "Epoch 65/100\n",
      "60/60 [==============================] - 5s 79ms/step - loss: 1.5110 - val_loss: 17.7351\n",
      "Epoch 66/100\n",
      "60/60 [==============================] - 5s 80ms/step - loss: 0.7785 - val_loss: 17.4342\n",
      "Epoch 67/100\n",
      "60/60 [==============================] - 5s 78ms/step - loss: 0.4220 - val_loss: 17.4658\n",
      "Epoch 68/100\n",
      "60/60 [==============================] - 5s 80ms/step - loss: 0.2595 - val_loss: 17.6295\n",
      "Epoch 69/100\n",
      "60/60 [==============================] - 5s 85ms/step - loss: 0.1475 - val_loss: 18.1530\n",
      "Epoch 70/100\n",
      "60/60 [==============================] - 5s 84ms/step - loss: 0.1259 - val_loss: 17.4153\n",
      "Epoch 71/100\n",
      "60/60 [==============================] - 5s 83ms/step - loss: 0.1166 - val_loss: 17.5674\n",
      "Epoch 72/100\n",
      "60/60 [==============================] - 5s 82ms/step - loss: 0.1883 - val_loss: 17.5065\n",
      "Epoch 73/100\n",
      "60/60 [==============================] - 5s 79ms/step - loss: 0.2413 - val_loss: 17.5637\n",
      "Epoch 74/100\n",
      "60/60 [==============================] - 5s 77ms/step - loss: 0.3267 - val_loss: 17.5606\n",
      "Epoch 75/100\n",
      "60/60 [==============================] - 5s 85ms/step - loss: 0.2985 - val_loss: 17.7740\n",
      "Epoch 76/100\n",
      "60/60 [==============================] - 5s 83ms/step - loss: 0.2856 - val_loss: 18.6732\n",
      "Epoch 77/100\n",
      "60/60 [==============================] - 5s 78ms/step - loss: 2.0882 - val_loss: 18.3593\n",
      "Epoch 78/100\n",
      "60/60 [==============================] - 5s 77ms/step - loss: 2.2006 - val_loss: 17.4952\n",
      "Epoch 79/100\n",
      "60/60 [==============================] - 5s 82ms/step - loss: 1.1810 - val_loss: 17.6164\n",
      "Epoch 80/100\n",
      "60/60 [==============================] - 5s 78ms/step - loss: 0.9711 - val_loss: 17.9246\n",
      "Epoch 81/100\n"
     ]
    },
    {
     "name": "stdout",
     "output_type": "stream",
     "text": [
      "60/60 [==============================] - 5s 80ms/step - loss: 0.4014 - val_loss: 17.9601\n",
      "Epoch 82/100\n",
      "60/60 [==============================] - 5s 83ms/step - loss: 0.2327 - val_loss: 17.4762\n",
      "Epoch 83/100\n",
      "60/60 [==============================] - 5s 81ms/step - loss: 0.2606 - val_loss: 17.2884\n",
      "Epoch 84/100\n",
      "60/60 [==============================] - 5s 78ms/step - loss: 0.1365 - val_loss: 17.8147\n",
      "Epoch 85/100\n",
      "60/60 [==============================] - 5s 84ms/step - loss: 0.1827 - val_loss: 17.2511\n",
      "Epoch 86/100\n",
      "60/60 [==============================] - 5s 82ms/step - loss: 0.2288 - val_loss: 17.2952\n",
      "Epoch 87/100\n",
      "60/60 [==============================] - 5s 81ms/step - loss: 0.2152 - val_loss: 17.5965\n",
      "Epoch 88/100\n",
      "60/60 [==============================] - 5s 79ms/step - loss: 0.1822 - val_loss: 17.1368\n",
      "Epoch 89/100\n",
      "60/60 [==============================] - 5s 84ms/step - loss: 0.2292 - val_loss: 17.5204\n",
      "Epoch 90/100\n",
      "60/60 [==============================] - 5s 80ms/step - loss: 0.2681 - val_loss: 17.4625\n",
      "Epoch 91/100\n",
      "60/60 [==============================] - 5s 81ms/step - loss: 0.3242 - val_loss: 17.2393\n",
      "Epoch 92/100\n",
      "60/60 [==============================] - 5s 84ms/step - loss: 0.8409 - val_loss: 18.0961\n",
      "Epoch 93/100\n",
      "60/60 [==============================] - 5s 81ms/step - loss: 1.0227 - val_loss: 17.9200\n",
      "Epoch 94/100\n",
      "60/60 [==============================] - 5s 81ms/step - loss: 0.7756 - val_loss: 17.0833\n",
      "Epoch 95/100\n",
      "60/60 [==============================] - 5s 84ms/step - loss: 1.0722 - val_loss: 17.0407\n",
      "Epoch 96/100\n",
      "60/60 [==============================] - 5s 82ms/step - loss: 0.4201 - val_loss: 18.6160\n",
      "Epoch 97/100\n",
      "60/60 [==============================] - 5s 81ms/step - loss: 0.4621 - val_loss: 17.3924\n",
      "Epoch 98/100\n",
      "60/60 [==============================] - 5s 80ms/step - loss: 0.2839 - val_loss: 17.3232\n",
      "Epoch 99/100\n",
      "60/60 [==============================] - 5s 84ms/step - loss: 0.5238 - val_loss: 17.7465\n",
      "Epoch 100/100\n",
      "60/60 [==============================] - 5s 80ms/step - loss: 0.8426 - val_loss: 16.8799\n"
     ]
    },
    {
     "data": {
      "text/plain": [
       "<tensorflow.python.keras.callbacks.History at 0x23bdd387610>"
      ]
     },
     "execution_count": 52,
     "metadata": {},
     "output_type": "execute_result"
    }
   ],
   "source": [
    "model.fit(x=x_train, y=y_train, validation_data=(x_test, y_test), batch_size=128, epochs=100, verbose=1)"
   ]
  },
  {
   "cell_type": "code",
   "execution_count": 53,
   "metadata": {},
   "outputs": [
    {
     "name": "stdout",
     "output_type": "stream",
     "text": [
      "Model: \"sequential\"\n",
      "_________________________________________________________________\n",
      "Layer (type)                 Output Shape              Param #   \n",
      "=================================================================\n",
      "dense (Dense)                (None, 800)               5535200   \n",
      "_________________________________________________________________\n",
      "dense_1 (Dense)              (None, 800)               640800    \n",
      "_________________________________________________________________\n",
      "dense_2 (Dense)              (None, 800)               640800    \n",
      "_________________________________________________________________\n",
      "dense_3 (Dense)              (None, 800)               640800    \n",
      "_________________________________________________________________\n",
      "dense_4 (Dense)              (None, 800)               640800    \n",
      "_________________________________________________________________\n",
      "dense_5 (Dense)              (None, 800)               640800    \n",
      "_________________________________________________________________\n",
      "dense_6 (Dense)              (None, 1)                 801       \n",
      "=================================================================\n",
      "Total params: 8,740,001\n",
      "Trainable params: 8,740,001\n",
      "Non-trainable params: 0\n",
      "_________________________________________________________________\n"
     ]
    }
   ],
   "source": [
    "model.summary()"
   ]
  },
  {
   "cell_type": "code",
   "execution_count": 54,
   "metadata": {},
   "outputs": [],
   "source": [
    "pred=model.predict(x_test)"
   ]
  },
  {
   "cell_type": "code",
   "execution_count": 55,
   "metadata": {},
   "outputs": [
    {
     "data": {
      "text/plain": [
       "4.1085098167007885"
      ]
     },
     "execution_count": 55,
     "metadata": {},
     "output_type": "execute_result"
    }
   ],
   "source": [
    "(mean_squared_error(y_test,pred))**.5"
   ]
  },
  {
   "cell_type": "code",
   "execution_count": 56,
   "metadata": {},
   "outputs": [
    {
     "data": {
      "text/plain": [
       "0.8142723126867333"
      ]
     },
     "execution_count": 56,
     "metadata": {},
     "output_type": "execute_result"
    }
   ],
   "source": [
    "r2_score(y_test,pred) "
   ]
  },
  {
   "cell_type": "code",
   "execution_count": 57,
   "metadata": {},
   "outputs": [],
   "source": [
    "def classification_funct(x,y):\n",
    "    from sklearn.naive_bayes import GaussianNB\n",
    "    from sklearn.naive_bayes import BernoulliNB\n",
    "    from sklearn.svm import SVC\n",
    "    from sklearn.neighbors import KNeighborsClassifier\n",
    "    from sklearn.tree import DecisionTreeClassifier\n",
    "    from sklearn.ensemble import RandomForestClassifier\n",
    "    from sklearn.linear_model import LogisticRegression\n",
    "    from xgboost import XGBClassifier #yüklemek için !pip install xgboost kullandım\n",
    "    \n",
    "    from sklearn.metrics import accuracy_score,precision_score,recall_score,f1_score\n",
    "    from sklearn.metrics import confusion_matrix,classification_report\n",
    "       \n",
    "    x_train,x_test,y_train,y_test=train_test_split(x,y,test_size=0.2,random_state=42)\n",
    "\n",
    "    g=GaussianNB()\n",
    "    b=BernoulliNB()\n",
    "    KN=KNeighborsClassifier()\n",
    "    SVC=SVC() \n",
    "    D=DecisionTreeClassifier()\n",
    "    R=RandomForestClassifier()\n",
    "    Log=LogisticRegression()\n",
    "    XGB=XGBClassifier()\n",
    "    \n",
    "    algos=[g,b,KN,SVC,D,R,Log,XGB]\n",
    "    algo_names=['GaussianNB','BernoulliNB','KNeighborsClassifier','SVC','DecisionTreeClassifier','RandomForestClassifier','LogisticRegression','XGBClassifier']\n",
    "   \n",
    "    accuracy_scored=[]\n",
    "\n",
    "    \n",
    "    for item in algos:\n",
    "        item.fit(x_train,y_train)\n",
    "        item.predict(x_test)\n",
    "        \n",
    "        accuracy_scored.append(accuracy_score(y_test,item.predict(x_test)))\n",
    "       \n",
    "    result=pd.DataFrame(columns=['accuracy_score'],index=algo_names)\n",
    "    result['accuracy_score']=accuracy_scored\n",
    "    return result.sort_values('accuracy_score',ascending=False)"
   ]
  },
  {
   "cell_type": "code",
   "execution_count": 58,
   "metadata": {},
   "outputs": [],
   "source": [
    "y=df[[\"epoch\"]]"
   ]
  },
  {
   "cell_type": "code",
   "execution_count": 59,
   "metadata": {},
   "outputs": [],
   "source": [
    "df_class=df.drop(\"epoch\",axis=1)\n",
    "x=pd.get_dummies(df_class,drop_first=True)"
   ]
  },
  {
   "cell_type": "code",
   "execution_count": 60,
   "metadata": {},
   "outputs": [
    {
     "name": "stdout",
     "output_type": "stream",
     "text": [
      "[03:01:45] WARNING: C:/Users/Administrator/workspace/xgboost-win64_release_1.3.0/src/learner.cc:1061: Starting in XGBoost 1.3.0, the default evaluation metric used with the objective 'multi:softprob' was changed from 'merror' to 'mlogloss'. Explicitly set eval_metric if you'd like to restore the old behavior.\n"
     ]
    },
    {
     "data": {
      "text/html": [
       "<div>\n",
       "<style scoped>\n",
       "    .dataframe tbody tr th:only-of-type {\n",
       "        vertical-align: middle;\n",
       "    }\n",
       "\n",
       "    .dataframe tbody tr th {\n",
       "        vertical-align: top;\n",
       "    }\n",
       "\n",
       "    .dataframe thead th {\n",
       "        text-align: right;\n",
       "    }\n",
       "</style>\n",
       "<table border=\"1\" class=\"dataframe\">\n",
       "  <thead>\n",
       "    <tr style=\"text-align: right;\">\n",
       "      <th></th>\n",
       "      <th>accuracy_score</th>\n",
       "    </tr>\n",
       "  </thead>\n",
       "  <tbody>\n",
       "    <tr>\n",
       "      <th>DecisionTreeClassifier</th>\n",
       "      <td>1.000000</td>\n",
       "    </tr>\n",
       "    <tr>\n",
       "      <th>XGBClassifier</th>\n",
       "      <td>1.000000</td>\n",
       "    </tr>\n",
       "    <tr>\n",
       "      <th>KNeighborsClassifier</th>\n",
       "      <td>0.987388</td>\n",
       "    </tr>\n",
       "    <tr>\n",
       "      <th>GaussianNB</th>\n",
       "      <td>0.963741</td>\n",
       "    </tr>\n",
       "    <tr>\n",
       "      <th>RandomForestClassifier</th>\n",
       "      <td>0.950604</td>\n",
       "    </tr>\n",
       "    <tr>\n",
       "      <th>LogisticRegression</th>\n",
       "      <td>0.865476</td>\n",
       "    </tr>\n",
       "    <tr>\n",
       "      <th>BernoulliNB</th>\n",
       "      <td>0.662112</td>\n",
       "    </tr>\n",
       "    <tr>\n",
       "      <th>SVC</th>\n",
       "      <td>0.647399</td>\n",
       "    </tr>\n",
       "  </tbody>\n",
       "</table>\n",
       "</div>"
      ],
      "text/plain": [
       "                        accuracy_score\n",
       "DecisionTreeClassifier        1.000000\n",
       "XGBClassifier                 1.000000\n",
       "KNeighborsClassifier          0.987388\n",
       "GaussianNB                    0.963741\n",
       "RandomForestClassifier        0.950604\n",
       "LogisticRegression            0.865476\n",
       "BernoulliNB                   0.662112\n",
       "SVC                           0.647399"
      ]
     },
     "execution_count": 60,
     "metadata": {},
     "output_type": "execute_result"
    }
   ],
   "source": [
    "classification_funct(x,y)"
   ]
  },
  {
   "cell_type": "markdown",
   "metadata": {},
   "source": [
    "age alanı olduğu için %100 sonuç çıkmıştır. Age alanını kaldırıp tekrar deneyelim"
   ]
  },
  {
   "cell_type": "code",
   "execution_count": 66,
   "metadata": {},
   "outputs": [],
   "source": [
    "df_class=df.drop([\"epoch\",\"age\"],axis=1)\n",
    "x=pd.get_dummies(df_class,drop_first=True)"
   ]
  },
  {
   "cell_type": "code",
   "execution_count": 67,
   "metadata": {},
   "outputs": [
    {
     "name": "stdout",
     "output_type": "stream",
     "text": [
      "[03:16:42] WARNING: C:/Users/Administrator/workspace/xgboost-win64_release_1.3.0/src/learner.cc:1061: Starting in XGBoost 1.3.0, the default evaluation metric used with the objective 'multi:softprob' was changed from 'merror' to 'mlogloss'. Explicitly set eval_metric if you'd like to restore the old behavior.\n"
     ]
    },
    {
     "data": {
      "text/html": [
       "<div>\n",
       "<style scoped>\n",
       "    .dataframe tbody tr th:only-of-type {\n",
       "        vertical-align: middle;\n",
       "    }\n",
       "\n",
       "    .dataframe tbody tr th {\n",
       "        vertical-align: top;\n",
       "    }\n",
       "\n",
       "    .dataframe thead th {\n",
       "        text-align: right;\n",
       "    }\n",
       "</style>\n",
       "<table border=\"1\" class=\"dataframe\">\n",
       "  <thead>\n",
       "    <tr style=\"text-align: right;\">\n",
       "      <th></th>\n",
       "      <th>accuracy_score</th>\n",
       "    </tr>\n",
       "  </thead>\n",
       "  <tbody>\n",
       "    <tr>\n",
       "      <th>XGBClassifier</th>\n",
       "      <td>0.676301</td>\n",
       "    </tr>\n",
       "    <tr>\n",
       "      <th>RandomForestClassifier</th>\n",
       "      <td>0.671046</td>\n",
       "    </tr>\n",
       "    <tr>\n",
       "      <th>BernoulliNB</th>\n",
       "      <td>0.662112</td>\n",
       "    </tr>\n",
       "    <tr>\n",
       "      <th>SVC</th>\n",
       "      <td>0.647399</td>\n",
       "    </tr>\n",
       "    <tr>\n",
       "      <th>GaussianNB</th>\n",
       "      <td>0.642144</td>\n",
       "    </tr>\n",
       "    <tr>\n",
       "      <th>LogisticRegression</th>\n",
       "      <td>0.642144</td>\n",
       "    </tr>\n",
       "    <tr>\n",
       "      <th>DecisionTreeClassifier</th>\n",
       "      <td>0.621650</td>\n",
       "    </tr>\n",
       "    <tr>\n",
       "      <th>KNeighborsClassifier</th>\n",
       "      <td>0.615870</td>\n",
       "    </tr>\n",
       "  </tbody>\n",
       "</table>\n",
       "</div>"
      ],
      "text/plain": [
       "                        accuracy_score\n",
       "XGBClassifier                 0.676301\n",
       "RandomForestClassifier        0.671046\n",
       "BernoulliNB                   0.662112\n",
       "SVC                           0.647399\n",
       "GaussianNB                    0.642144\n",
       "LogisticRegression            0.642144\n",
       "DecisionTreeClassifier        0.621650\n",
       "KNeighborsClassifier          0.615870"
      ]
     },
     "execution_count": 67,
     "metadata": {},
     "output_type": "execute_result"
    }
   ],
   "source": [
    "classification_funct(x,y)"
   ]
  },
  {
   "cell_type": "code",
   "execution_count": 61,
   "metadata": {},
   "outputs": [],
   "source": []
  }
 ],
 "metadata": {
  "kernelspec": {
   "display_name": "Python 3",
   "language": "python",
   "name": "python3"
  },
  "language_info": {
   "codemirror_mode": {
    "name": "ipython",
    "version": 3
   },
   "file_extension": ".py",
   "mimetype": "text/x-python",
   "name": "python",
   "nbconvert_exporter": "python",
   "pygments_lexer": "ipython3",
   "version": "3.8.5"
  }
 },
 "nbformat": 4,
 "nbformat_minor": 4
}
